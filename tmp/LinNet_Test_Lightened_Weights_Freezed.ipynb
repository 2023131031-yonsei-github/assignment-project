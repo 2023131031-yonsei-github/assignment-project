{
  "nbformat": 4,
  "nbformat_minor": 0,
  "metadata": {
    "colab": {
      "provenance": [],
      "gpuType": "T4"
    },
    "kernelspec": {
      "name": "python3",
      "display_name": "Python 3"
    },
    "language_info": {
      "name": "python"
    },
    "accelerator": "GPU"
  },
  "cells": [
    {
      "cell_type": "code",
      "source": [
        "from functools import partial\n",
        "from collections import OrderedDict\n",
        "\n",
        "%config InlineBackend.figure_format = 'retina'\n",
        "\n",
        "import numpy as np\n",
        "\n",
        "import matplotlib.pyplot as plt\n",
        "from mpl_toolkits.axes_grid1 import ImageGrid\n",
        "\n",
        "import torch\n",
        "import torch.nn as nn\n",
        "import torch.nn.functional as F\n",
        "from torch.autograd import Variable\n",
        "\n",
        "import torchvision as tv"
      ],
      "metadata": {
        "id": "ToBrBLyfPDur"
      },
      "execution_count": null,
      "outputs": []
    },
    {
      "cell_type": "code",
      "source": [
        "device = torch.device(\"cuda:0\" if torch.cuda.is_available() else \"cpu\")\n",
        "print(device)"
      ],
      "metadata": {
        "colab": {
          "base_uri": "https://localhost:8080/"
        },
        "id": "xtb_HOjKOcqg",
        "outputId": "23d0c7fd-465d-4aa3-9d07-c8bc6e7e23e1"
      },
      "execution_count": null,
      "outputs": [
        {
          "output_type": "stream",
          "name": "stdout",
          "text": [
            "cuda:0\n"
          ]
        }
      ]
    },
    {
      "cell_type": "code",
      "source": [
        "import requests\n",
        "import io\n",
        "\n",
        "def get_weights(bit_variant):\n",
        "  response = requests.get(f'https://storage.googleapis.com/bit_models/{bit_variant}.npz')\n",
        "  response.raise_for_status()\n",
        "  return np.load(io.BytesIO(response.content))\n",
        "\n",
        "weights = get_weights('BiT-M-R50x1')"
      ],
      "metadata": {
        "id": "JOpcgkODOe2w"
      },
      "execution_count": null,
      "outputs": []
    },
    {
      "cell_type": "code",
      "source": [
        "#weights_cifar100 = get_weights('BiT-M-R50x1-CIFAR100')"
      ],
      "metadata": {
        "id": "jd0njZJuPPe6"
      },
      "execution_count": null,
      "outputs": []
    },
    {
      "cell_type": "code",
      "source": [
        "def tf2th(conv_weights):\n",
        "  \"\"\"Possibly convert HWIO to OIHW\"\"\"\n",
        "  if conv_weights.ndim == 4:\n",
        "    conv_weights = np.transpose(conv_weights, [3, 2, 0, 1])\n",
        "  return torch.from_numpy(conv_weights)\n",
        "\n",
        "class StdConv2d(nn.Conv2d):\n",
        "\n",
        "  def forward(self, x):\n",
        "    w = self.weight\n",
        "    v, m = torch.var_mean(w, dim=[1, 2, 3], keepdim=True, unbiased=False)\n",
        "    w = (w - m) / torch.sqrt(v + 1e-10)\n",
        "    return F.conv2d(x, w, self.bias, self.stride, self.padding,\n",
        "                    self.dilation, self.groups)\n",
        "\n",
        "def conv3x3(cin, cout, stride=1, groups=1, bias=False):\n",
        "  return StdConv2d(cin, cout, kernel_size=3, stride=stride, padding=1, bias=bias, groups=groups)\n",
        "\n",
        "def conv1x1(cin, cout, stride=1, bias=False):\n",
        "  return StdConv2d(cin, cout, kernel_size=1, stride=stride, padding=0, bias=bias)\n",
        "\n",
        "class PreActConv(nn.Module):\n",
        "\n",
        "  def __init__(self, cin, cout=None, cmid=None, stride=1):\n",
        "    super().__init__()\n",
        "    cout = cout or cin\n",
        "    cmid = cmid or cout//4\n",
        "\n",
        "    self.gn1 = nn.GroupNorm(32, cin)\n",
        "    self.conv1 = conv1x1(cin, cmid)\n",
        "    self.gn2 = nn.GroupNorm(32, cmid)\n",
        "    self.conv2 = conv3x3(cmid, cmid, stride)  # Original code has it on conv1!!\n",
        "    self.gn3 = nn.GroupNorm(32, cmid)\n",
        "    self.conv3 = conv1x1(cmid, cout)\n",
        "    self.relu = nn.ReLU(inplace=True)\n",
        "\n",
        "\n",
        "  def forward(self, x):\n",
        "    out = self.relu(self.gn1(x))\n",
        "\n",
        "    # Unit's branch\n",
        "    out = self.conv1(out)\n",
        "    out = self.conv2(self.relu(self.gn2(out)))\n",
        "    out = self.conv3(self.relu(self.gn3(out)))\n",
        "\n",
        "    return out\n",
        "\n",
        "  def load_from(self, weights, prefix=''):\n",
        "    with torch.no_grad():\n",
        "      self.conv1.weight.copy_(tf2th(weights[prefix + 'a/standardized_conv2d/kernel']))\n",
        "      self.conv2.weight.copy_(tf2th(weights[prefix + 'b/standardized_conv2d/kernel']))\n",
        "      self.conv3.weight.copy_(tf2th(weights[prefix + 'c/standardized_conv2d/kernel']))\n",
        "      self.gn1.weight.copy_(tf2th(weights[prefix + 'a/group_norm/gamma']))\n",
        "      self.gn2.weight.copy_(tf2th(weights[prefix + 'b/group_norm/gamma']))\n",
        "      self.gn3.weight.copy_(tf2th(weights[prefix + 'c/group_norm/gamma']))\n",
        "      self.gn1.bias.copy_(tf2th(weights[prefix + 'a/group_norm/beta']))\n",
        "      self.gn2.bias.copy_(tf2th(weights[prefix + 'b/group_norm/beta']))\n",
        "      self.gn3.bias.copy_(tf2th(weights[prefix + 'c/group_norm/beta']))\n",
        "      self.conv1.weight.requires_grad = False\n",
        "      self.conv2.weight.requires_grad = False\n",
        "      self.conv3.weight.requires_grad = False\n",
        "      self.gn1.weight.requires_grad = False\n",
        "      self.gn2.weight.requires_grad = False\n",
        "      self.gn3.weight.requires_grad = False\n",
        "      self.gn1.bias.requires_grad = False\n",
        "      self.gn2.bias.requires_grad = False\n",
        "      self.gn3.bias.requires_grad = False\n",
        "\n",
        "    return self\n",
        "  def melt(self):\n",
        "      self.conv1.weight.requires_grad = True\n",
        "      self.conv2.weight.requires_grad = True\n",
        "      self.conv3.weight.requires_grad = True\n",
        "      self.gn1.weight.requires_grad = True\n",
        "      self.gn2.weight.requires_grad = True\n",
        "      self.gn3.weight.requires_grad = True\n",
        "      self.gn1.bias.requires_grad = True\n",
        "      self.gn2.bias.requires_grad = True\n",
        "      self.gn3.bias.requires_grad = True\n",
        "  def freeze(self):\n",
        "      self.conv1.weight.requires_grad = False\n",
        "      self.conv2.weight.requires_grad = False\n",
        "      self.conv3.weight.requires_grad = False\n",
        "      self.gn1.weight.requires_grad = False\n",
        "      self.gn2.weight.requires_grad = False\n",
        "      self.gn3.weight.requires_grad = False\n",
        "      self.gn1.bias.requires_grad = False\n",
        "      self.gn2.bias.requires_grad = False\n",
        "      self.gn3.bias.requires_grad = False\n",
        "\n",
        "\n",
        "class ConvWithLin(nn.Module):\n",
        "  def __init__(self, lcin, cin, cout = None, cmid = None, lcout = None, stride=1, block_unit = 1):\n",
        "    super().__init__()\n",
        "    cout = cout or cin\n",
        "    cmid = cmid or cout//4\n",
        "    lcout = lcout or lcin\n",
        "\n",
        "    #self.unit = PreActConv(cin=cin,cout=cout,cmid=cmid,stride=stride)\n",
        "    if lcin != cin:\n",
        "      self.projin = conv1x1(lcin,cin,stride)\n",
        "\n",
        "    self.unit = nn.Sequential(OrderedDict(\n",
        "            [('unit01', PreActConv(cin=cin, cout=cout, cmid=cmid, stride=stride))] +\n",
        "            [(f'unit{i:02d}', PreActConv(cin=cout, cout=cout, cmid=cmid)) for i in range(2, block_unit + 1)],\n",
        "        ))\n",
        "    if lcout != cout:\n",
        "      self.projout = conv1x1(cout, lcout, stride)\n",
        "    if lcout != lcin:\n",
        "      self.linproj = conv1x1(lcin, lcout, stride)\n",
        "\n",
        "\n",
        "  def forward(self, x):\n",
        "    if hasattr(self, 'projin'):\n",
        "      out = self.projin(x)\n",
        "    else:\n",
        "      out = x\n",
        "\n",
        "    out = self.unit(out)\n",
        "\n",
        "    if hasattr(self, 'projout'):\n",
        "      out = self.projout(out)\n",
        "    if hasattr(self, 'linproj'):\n",
        "      x = self.linproj(x)\n",
        "\n",
        "    out = torch.add(out,x)\n",
        "\n",
        "#    if hasattr(self, 'outunit'):\n",
        "#      out = self.outunit(out)\n",
        "\n",
        "    return out\n",
        "\n",
        "\n",
        "class LinNet(nn.Module):\n",
        "  \"\"\"Implementation of Pre-activation (v2) ResNet mode.\"\"\"\n",
        "  BLOCK_UNITS = {\n",
        "      'r50': [3, 4, 6, 3],\n",
        "      'r101': [3, 4, 23, 3],\n",
        "      'r152': [3, 8, 36, 3],\n",
        "  }\n",
        "\n",
        "  def __init__(self, block_units, width_factor, head_size=21843, zero_head=False):\n",
        "    super().__init__()\n",
        "    wf = width_factor  # shortcut 'cause we'll use it a lot.\n",
        "\n",
        "    self.update1 = conv3x3(cin=256*wf, cout=256*wf)\n",
        "\n",
        "    # The following will be unreadable if we split lines.\n",
        "    # pylint: disable=line-too-long\n",
        "    self.root = nn.Sequential(OrderedDict([\n",
        "        ('conv', StdConv2d(3, 32*wf, kernel_size=7, stride=2, padding=3, bias=False)),\n",
        "        ('pad', nn.ConstantPad2d(1, 0)),\n",
        "        ('pool', nn.MaxPool2d(kernel_size=3, stride=2, padding=0)),\n",
        "        # The following is subtly not the same!\n",
        "        # ('pool', nn.MaxPool2d(kernel_size=3, stride=2, padding=1)),\n",
        "    ]))\n",
        "\n",
        "    self.body = nn.Sequential(OrderedDict([\n",
        "        ('block1', ConvWithLin(lcin = 32*wf, lcout=256*wf, cin=32*wf, cout= 64*wf, cmid=32*wf, block_unit = block_units[0])),\n",
        "\n",
        "        ('block2', ConvWithLin(lcin = 256*wf, lcout=256*wf, cin=64*wf, cout= 128*wf, cmid=64*wf, block_unit = block_units[1])),\n",
        "\n",
        "        ('block3', ConvWithLin(lcin = 256*wf, lcout=256*wf, cin=128*wf, cout= 256*wf, cmid=128*wf, block_unit = block_units[2])),\n",
        "\n",
        "        #('block4', ConvWithLin(lcin = 2048*wf, lcout=2048*wf, cin=1024*wf, cout= 2048*wf, cmid=512*wf, block_unit = block_units[3])),\n",
        "    ]))\n",
        "    # pylint: enable=line-too-long\n",
        "\n",
        "    self.zero_head = zero_head\n",
        "    self.head = nn.Sequential(OrderedDict([\n",
        "        ('gn', nn.GroupNorm(32, 256*wf)),\n",
        "        ('relu', nn.ReLU(inplace=True)),\n",
        "        ('avg', nn.AdaptiveAvgPool2d(output_size=1)),\n",
        "        ('conv', nn.Conv2d(256*wf, head_size, kernel_size=1, bias=True)),\n",
        "    ]))\n",
        "\n",
        "  def forward(self, x):\n",
        "    x = self.root(x)#self.head(self.body(self.root(x)))\n",
        "    for bname, block in self.body.named_children():\n",
        "      x = self.update1(block(x))\n",
        "    x = self.head(x)\n",
        "\n",
        "    assert x.shape[-2:] == (1, 1)  # We should have no spatial shape left.\n",
        "    return x[...,0,0]\n",
        "\n",
        "  def load_from(self, weights, prefix='resnet/'):\n",
        "    with torch.no_grad():\n",
        "      self.root.conv.weight.copy_(tf2th(weights[f'{prefix}root_block/standardized_conv2d/kernel']))\n",
        "      self.head.gn.weight.copy_(tf2th(weights[f'{prefix}group_norm/gamma']))\n",
        "      self.head.gn.bias.copy_(tf2th(weights[f'{prefix}group_norm/beta']))\n",
        "      if self.zero_head:\n",
        "        nn.init.zeros_(self.head.conv.weight)\n",
        "        nn.init.zeros_(self.head.conv.bias)\n",
        "      else:\n",
        "        self.head.conv.weight.copy_(tf2th(weights[f'{prefix}head/conv2d/kernel']))\n",
        "        self.head.conv.bias.copy_(tf2th(weights[f'{prefix}head/conv2d/bias']))\n",
        "\n",
        "      for bname, block in self.body.named_children():\n",
        "        for uname, unit in block.unit.named_children():\n",
        "          unit.load_from(weights, prefix=f'{prefix}{bname}/{uname}/')\n",
        "    return self\n"
      ],
      "metadata": {
        "id": "zc40fIvxOnHa"
      },
      "execution_count": null,
      "outputs": []
    },
    {
      "cell_type": "code",
      "source": [
        "model = LinNet(LinNet.BLOCK_UNITS['r50'], width_factor=1, head_size=100,zero_head = True)  # NOTE: No new head.\n",
        "#model.load_from(weights)\n",
        "model.to(device)"
      ],
      "metadata": {
        "id": "OFlgoM7IO4WX",
        "colab": {
          "base_uri": "https://localhost:8080/"
        },
        "outputId": "c87e8199-aba4-45c8-bbd6-37a3df8fbad3"
      },
      "execution_count": null,
      "outputs": [
        {
          "output_type": "execute_result",
          "data": {
            "text/plain": [
              "LinNet(\n",
              "  (update1): StdConv2d(256, 256, kernel_size=(3, 3), stride=(1, 1), padding=(1, 1), bias=False)\n",
              "  (root): Sequential(\n",
              "    (conv): StdConv2d(3, 32, kernel_size=(7, 7), stride=(2, 2), padding=(3, 3), bias=False)\n",
              "    (pad): ConstantPad2d(padding=(1, 1, 1, 1), value=0)\n",
              "    (pool): MaxPool2d(kernel_size=3, stride=2, padding=0, dilation=1, ceil_mode=False)\n",
              "  )\n",
              "  (body): Sequential(\n",
              "    (block1): ConvWithLin(\n",
              "      (unit): Sequential(\n",
              "        (unit01): PreActConv(\n",
              "          (gn1): GroupNorm(32, 32, eps=1e-05, affine=True)\n",
              "          (conv1): StdConv2d(32, 32, kernel_size=(1, 1), stride=(1, 1), bias=False)\n",
              "          (gn2): GroupNorm(32, 32, eps=1e-05, affine=True)\n",
              "          (conv2): StdConv2d(32, 32, kernel_size=(3, 3), stride=(1, 1), padding=(1, 1), bias=False)\n",
              "          (gn3): GroupNorm(32, 32, eps=1e-05, affine=True)\n",
              "          (conv3): StdConv2d(32, 64, kernel_size=(1, 1), stride=(1, 1), bias=False)\n",
              "          (relu): ReLU(inplace=True)\n",
              "        )\n",
              "        (unit02): PreActConv(\n",
              "          (gn1): GroupNorm(32, 64, eps=1e-05, affine=True)\n",
              "          (conv1): StdConv2d(64, 32, kernel_size=(1, 1), stride=(1, 1), bias=False)\n",
              "          (gn2): GroupNorm(32, 32, eps=1e-05, affine=True)\n",
              "          (conv2): StdConv2d(32, 32, kernel_size=(3, 3), stride=(1, 1), padding=(1, 1), bias=False)\n",
              "          (gn3): GroupNorm(32, 32, eps=1e-05, affine=True)\n",
              "          (conv3): StdConv2d(32, 64, kernel_size=(1, 1), stride=(1, 1), bias=False)\n",
              "          (relu): ReLU(inplace=True)\n",
              "        )\n",
              "        (unit03): PreActConv(\n",
              "          (gn1): GroupNorm(32, 64, eps=1e-05, affine=True)\n",
              "          (conv1): StdConv2d(64, 32, kernel_size=(1, 1), stride=(1, 1), bias=False)\n",
              "          (gn2): GroupNorm(32, 32, eps=1e-05, affine=True)\n",
              "          (conv2): StdConv2d(32, 32, kernel_size=(3, 3), stride=(1, 1), padding=(1, 1), bias=False)\n",
              "          (gn3): GroupNorm(32, 32, eps=1e-05, affine=True)\n",
              "          (conv3): StdConv2d(32, 64, kernel_size=(1, 1), stride=(1, 1), bias=False)\n",
              "          (relu): ReLU(inplace=True)\n",
              "        )\n",
              "      )\n",
              "      (projout): StdConv2d(64, 256, kernel_size=(1, 1), stride=(1, 1), bias=False)\n",
              "      (linproj): StdConv2d(32, 256, kernel_size=(1, 1), stride=(1, 1), bias=False)\n",
              "    )\n",
              "    (block2): ConvWithLin(\n",
              "      (projin): StdConv2d(256, 64, kernel_size=(1, 1), stride=(1, 1), bias=False)\n",
              "      (unit): Sequential(\n",
              "        (unit01): PreActConv(\n",
              "          (gn1): GroupNorm(32, 64, eps=1e-05, affine=True)\n",
              "          (conv1): StdConv2d(64, 64, kernel_size=(1, 1), stride=(1, 1), bias=False)\n",
              "          (gn2): GroupNorm(32, 64, eps=1e-05, affine=True)\n",
              "          (conv2): StdConv2d(64, 64, kernel_size=(3, 3), stride=(1, 1), padding=(1, 1), bias=False)\n",
              "          (gn3): GroupNorm(32, 64, eps=1e-05, affine=True)\n",
              "          (conv3): StdConv2d(64, 128, kernel_size=(1, 1), stride=(1, 1), bias=False)\n",
              "          (relu): ReLU(inplace=True)\n",
              "        )\n",
              "        (unit02): PreActConv(\n",
              "          (gn1): GroupNorm(32, 128, eps=1e-05, affine=True)\n",
              "          (conv1): StdConv2d(128, 64, kernel_size=(1, 1), stride=(1, 1), bias=False)\n",
              "          (gn2): GroupNorm(32, 64, eps=1e-05, affine=True)\n",
              "          (conv2): StdConv2d(64, 64, kernel_size=(3, 3), stride=(1, 1), padding=(1, 1), bias=False)\n",
              "          (gn3): GroupNorm(32, 64, eps=1e-05, affine=True)\n",
              "          (conv3): StdConv2d(64, 128, kernel_size=(1, 1), stride=(1, 1), bias=False)\n",
              "          (relu): ReLU(inplace=True)\n",
              "        )\n",
              "        (unit03): PreActConv(\n",
              "          (gn1): GroupNorm(32, 128, eps=1e-05, affine=True)\n",
              "          (conv1): StdConv2d(128, 64, kernel_size=(1, 1), stride=(1, 1), bias=False)\n",
              "          (gn2): GroupNorm(32, 64, eps=1e-05, affine=True)\n",
              "          (conv2): StdConv2d(64, 64, kernel_size=(3, 3), stride=(1, 1), padding=(1, 1), bias=False)\n",
              "          (gn3): GroupNorm(32, 64, eps=1e-05, affine=True)\n",
              "          (conv3): StdConv2d(64, 128, kernel_size=(1, 1), stride=(1, 1), bias=False)\n",
              "          (relu): ReLU(inplace=True)\n",
              "        )\n",
              "        (unit04): PreActConv(\n",
              "          (gn1): GroupNorm(32, 128, eps=1e-05, affine=True)\n",
              "          (conv1): StdConv2d(128, 64, kernel_size=(1, 1), stride=(1, 1), bias=False)\n",
              "          (gn2): GroupNorm(32, 64, eps=1e-05, affine=True)\n",
              "          (conv2): StdConv2d(64, 64, kernel_size=(3, 3), stride=(1, 1), padding=(1, 1), bias=False)\n",
              "          (gn3): GroupNorm(32, 64, eps=1e-05, affine=True)\n",
              "          (conv3): StdConv2d(64, 128, kernel_size=(1, 1), stride=(1, 1), bias=False)\n",
              "          (relu): ReLU(inplace=True)\n",
              "        )\n",
              "      )\n",
              "      (projout): StdConv2d(128, 256, kernel_size=(1, 1), stride=(1, 1), bias=False)\n",
              "    )\n",
              "    (block3): ConvWithLin(\n",
              "      (projin): StdConv2d(256, 128, kernel_size=(1, 1), stride=(1, 1), bias=False)\n",
              "      (unit): Sequential(\n",
              "        (unit01): PreActConv(\n",
              "          (gn1): GroupNorm(32, 128, eps=1e-05, affine=True)\n",
              "          (conv1): StdConv2d(128, 128, kernel_size=(1, 1), stride=(1, 1), bias=False)\n",
              "          (gn2): GroupNorm(32, 128, eps=1e-05, affine=True)\n",
              "          (conv2): StdConv2d(128, 128, kernel_size=(3, 3), stride=(1, 1), padding=(1, 1), bias=False)\n",
              "          (gn3): GroupNorm(32, 128, eps=1e-05, affine=True)\n",
              "          (conv3): StdConv2d(128, 256, kernel_size=(1, 1), stride=(1, 1), bias=False)\n",
              "          (relu): ReLU(inplace=True)\n",
              "        )\n",
              "        (unit02): PreActConv(\n",
              "          (gn1): GroupNorm(32, 256, eps=1e-05, affine=True)\n",
              "          (conv1): StdConv2d(256, 128, kernel_size=(1, 1), stride=(1, 1), bias=False)\n",
              "          (gn2): GroupNorm(32, 128, eps=1e-05, affine=True)\n",
              "          (conv2): StdConv2d(128, 128, kernel_size=(3, 3), stride=(1, 1), padding=(1, 1), bias=False)\n",
              "          (gn3): GroupNorm(32, 128, eps=1e-05, affine=True)\n",
              "          (conv3): StdConv2d(128, 256, kernel_size=(1, 1), stride=(1, 1), bias=False)\n",
              "          (relu): ReLU(inplace=True)\n",
              "        )\n",
              "        (unit03): PreActConv(\n",
              "          (gn1): GroupNorm(32, 256, eps=1e-05, affine=True)\n",
              "          (conv1): StdConv2d(256, 128, kernel_size=(1, 1), stride=(1, 1), bias=False)\n",
              "          (gn2): GroupNorm(32, 128, eps=1e-05, affine=True)\n",
              "          (conv2): StdConv2d(128, 128, kernel_size=(3, 3), stride=(1, 1), padding=(1, 1), bias=False)\n",
              "          (gn3): GroupNorm(32, 128, eps=1e-05, affine=True)\n",
              "          (conv3): StdConv2d(128, 256, kernel_size=(1, 1), stride=(1, 1), bias=False)\n",
              "          (relu): ReLU(inplace=True)\n",
              "        )\n",
              "        (unit04): PreActConv(\n",
              "          (gn1): GroupNorm(32, 256, eps=1e-05, affine=True)\n",
              "          (conv1): StdConv2d(256, 128, kernel_size=(1, 1), stride=(1, 1), bias=False)\n",
              "          (gn2): GroupNorm(32, 128, eps=1e-05, affine=True)\n",
              "          (conv2): StdConv2d(128, 128, kernel_size=(3, 3), stride=(1, 1), padding=(1, 1), bias=False)\n",
              "          (gn3): GroupNorm(32, 128, eps=1e-05, affine=True)\n",
              "          (conv3): StdConv2d(128, 256, kernel_size=(1, 1), stride=(1, 1), bias=False)\n",
              "          (relu): ReLU(inplace=True)\n",
              "        )\n",
              "        (unit05): PreActConv(\n",
              "          (gn1): GroupNorm(32, 256, eps=1e-05, affine=True)\n",
              "          (conv1): StdConv2d(256, 128, kernel_size=(1, 1), stride=(1, 1), bias=False)\n",
              "          (gn2): GroupNorm(32, 128, eps=1e-05, affine=True)\n",
              "          (conv2): StdConv2d(128, 128, kernel_size=(3, 3), stride=(1, 1), padding=(1, 1), bias=False)\n",
              "          (gn3): GroupNorm(32, 128, eps=1e-05, affine=True)\n",
              "          (conv3): StdConv2d(128, 256, kernel_size=(1, 1), stride=(1, 1), bias=False)\n",
              "          (relu): ReLU(inplace=True)\n",
              "        )\n",
              "        (unit06): PreActConv(\n",
              "          (gn1): GroupNorm(32, 256, eps=1e-05, affine=True)\n",
              "          (conv1): StdConv2d(256, 128, kernel_size=(1, 1), stride=(1, 1), bias=False)\n",
              "          (gn2): GroupNorm(32, 128, eps=1e-05, affine=True)\n",
              "          (conv2): StdConv2d(128, 128, kernel_size=(3, 3), stride=(1, 1), padding=(1, 1), bias=False)\n",
              "          (gn3): GroupNorm(32, 128, eps=1e-05, affine=True)\n",
              "          (conv3): StdConv2d(128, 256, kernel_size=(1, 1), stride=(1, 1), bias=False)\n",
              "          (relu): ReLU(inplace=True)\n",
              "        )\n",
              "      )\n",
              "    )\n",
              "  )\n",
              "  (head): Sequential(\n",
              "    (gn): GroupNorm(32, 256, eps=1e-05, affine=True)\n",
              "    (relu): ReLU(inplace=True)\n",
              "    (avg): AdaptiveAvgPool2d(output_size=1)\n",
              "    (conv): Conv2d(256, 100, kernel_size=(1, 1), stride=(1, 1))\n",
              "  )\n",
              ")"
            ]
          },
          "metadata": {},
          "execution_count": 60
        }
      ]
    },
    {
      "cell_type": "markdown",
      "source": [
        "Train"
      ],
      "metadata": {
        "id": "IjgQrK-eOhxl"
      }
    },
    {
      "cell_type": "code",
      "source": [
        "import torchvision\n",
        "import torchvision.transforms as T"
      ],
      "metadata": {
        "id": "ISLiCWbnIYOg"
      },
      "execution_count": null,
      "outputs": []
    },
    {
      "cell_type": "code",
      "source": [
        "\n",
        "transform_train = T.Compose( [T.RandomCrop(32, padding=4), T.RandomHorizontalFlip(), T.ToTensor(), T.Normalize( (0.5, 0.5, 0.5), (0.5, 0.5, 0.5) )] )\n",
        "transform_test = T.Compose( [T.ToTensor(), T.Normalize( (0.5, 0.5, 0.5), (0.5, 0.5, 0.5) )] )\n",
        "\n",
        "train_set = torchvision.datasets.CIFAR100('./data', train=True, download=True, transform=transform_train )\n",
        "test_set = torchvision.datasets.CIFAR100('./data', train=False, download=True, transform=transform_test )\n",
        "\n",
        "classes = train_set.classes\n"
      ],
      "metadata": {
        "colab": {
          "base_uri": "https://localhost:8080/"
        },
        "id": "xUYIfy3GH7q3",
        "outputId": "0107a240-036f-45cc-daa6-efec72babffc"
      },
      "execution_count": null,
      "outputs": [
        {
          "output_type": "stream",
          "name": "stdout",
          "text": [
            "Files already downloaded and verified\n",
            "Files already downloaded and verified\n"
          ]
        }
      ]
    },
    {
      "cell_type": "code",
      "source": [
        "#learning_rate = 1e-3\n",
        "batch_size = 32\n",
        "num_epochs = 10"
      ],
      "metadata": {
        "id": "BHPCPw4uIitm"
      },
      "execution_count": null,
      "outputs": []
    },
    {
      "cell_type": "code",
      "source": [
        "train_loader = torch.utils.data.DataLoader(train_set, batch_size=batch_size, shuffle=True)\n",
        "test_loader = torch.utils.data.DataLoader(test_set, batch_size=batch_size, shuffle=False)\n",
        "\n"
      ],
      "metadata": {
        "id": "S7EDuXPIH9VC"
      },
      "execution_count": null,
      "outputs": []
    },
    {
      "cell_type": "code",
      "source": [
        "from IPython.display import HTML, display\n",
        "\n",
        "\n",
        "# Custom IPython progress bar for training\n",
        "class ProgressMonitor(object):\n",
        "\n",
        "    tmpl = \"\"\"\n",
        "        <table style=\"width: 100%;\">\n",
        "            <tbody>\n",
        "                <tr>\n",
        "                    <td style=\"width: 30%;\">\n",
        "                     <b>Loss: {loss:0.4f}</b> &nbsp&nbsp&nbsp {value} / {length}\n",
        "                    </td>\n",
        "                    <td style=\"width: 70%;\">\n",
        "                        <progress value='{value}' max='{length}', style='width: 100%'>{value}</progress>\n",
        "                    </td>\n",
        "                </tr>\n",
        "            </tbody>\n",
        "        </table>\n",
        "        \"\"\"\n",
        "\n",
        "    def __init__(self, length):\n",
        "        self.length = length\n",
        "        self.count = 0\n",
        "        self.display = display(self.html(0, 0), display_id=True)\n",
        "\n",
        "    def html(self, count, loss):\n",
        "        return HTML(self.tmpl.format(length=self.length, value=count, loss=loss))\n",
        "\n",
        "    def update(self, count, loss):\n",
        "        self.count += count\n",
        "        self.display.update(self.html(self.count, loss))"
      ],
      "metadata": {
        "id": "G6BnAx_jH9Ro"
      },
      "execution_count": null,
      "outputs": []
    },
    {
      "cell_type": "code",
      "source": [
        "def stairs(s, v, *svs):\n",
        "    \"\"\" Implements a typical \"stairs\" schedule for learning-rates.\n",
        "    Best explained by example:\n",
        "    stairs(s, 0.1, 10, 0.01, 20, 0.001)\n",
        "    will return 0.1 if s<10, 0.01 if 10<=s<20, and 0.001 if 20<=s\n",
        "    \"\"\"\n",
        "    for s0, v0 in zip(svs[::2], svs[1::2]):\n",
        "        if s < s0:\n",
        "            break\n",
        "        v = v0\n",
        "    return v\n",
        "\n",
        "def rampup(s, peak_s, peak_lr):\n",
        "  if s < peak_s:  # Warmup\n",
        "    return s/peak_s * peak_lr\n",
        "  else:\n",
        "    return peak_lr"
      ],
      "metadata": {
        "id": "WwDaQ3g4RhT0"
      },
      "execution_count": null,
      "outputs": []
    },
    {
      "cell_type": "code",
      "source": [
        "from statistics import mean\n",
        "import os\n",
        "\n",
        "optim = torch.optim.SGD(model.parameters(), lr=0.003, momentum=0.9, weight_decay=1e-6)\n",
        "\n",
        "loss_fn = nn.CrossEntropyLoss()\n",
        "\n",
        "S = 100\n",
        "def schedule(s):\n",
        "  step_lr = stairs(s, 3e-3, 35, 3e-4, 70, 3e-5, 90, 3e-6, S, None)\n",
        "  return rampup(s, 2, step_lr)\n",
        "\n",
        "def train(optimizer, model, num_epochs = 10, first_epoch = 1):\n",
        "    os.mkdir(\"./train1\")\n",
        "    train_losses = []\n",
        "    test_losses = []\n",
        "\n",
        "    best_test_acc = 0\n",
        "\n",
        "    steps_per_batch = 50000 // train_loader.batch_size\n",
        "\n",
        "    for epoch in range(first_epoch, first_epoch + num_epochs):\n",
        "        print('Epoch', epoch)\n",
        "\n",
        "        model.train()\n",
        "        progress = ProgressMonitor(length=len(train_set))\n",
        "\n",
        "        correct_train = 0\n",
        "        batch_losses = []\n",
        "\n",
        "        lr = schedule(epoch)\n",
        "        for param_group in optimizer.param_groups:\n",
        "          param_group['lr'] = lr\n",
        "\n",
        "        for batch, targets in train_loader:\n",
        "\n",
        "            batch = batch.to(device)\n",
        "            targets = targets.to(device)\n",
        "\n",
        "            optimizer.zero_grad()\n",
        "\n",
        "            outputs = model(batch)\n",
        "\n",
        "            loss = loss_fn(outputs, targets)\n",
        "            lossdiv = loss#*5/steps_per_batch\n",
        "            lossdiv.backward()\n",
        "\n",
        "            #torch.nn.utils.clip_grad_norm_(model.parameters(), 1)\n",
        "            optimizer.step()\n",
        "\n",
        "\n",
        "            batch_losses.append(loss.item())\n",
        "\n",
        "            _, preds = torch.max(outputs, 1)\n",
        "            correct_train += torch.sum(preds == targets.data)\n",
        "            progress.update(batch.shape[0], mean(batch_losses) )\n",
        "\n",
        "        #scheduler.step()\n",
        "\n",
        "        train_losses.append( mean(batch_losses))\n",
        "\n",
        "        model.eval()\n",
        "\n",
        "        y_pred = []\n",
        "\n",
        "        correct_test = 0\n",
        "\n",
        "        with torch.no_grad():\n",
        "\n",
        "            for batch, targets in test_loader:\n",
        "\n",
        "                # Move the training batch to the GPU\n",
        "                batch = batch.to(device)\n",
        "                targets = targets.to(device)\n",
        "\n",
        "                # forward propagation\n",
        "                outputs = model(batch)\n",
        "\n",
        "                # calculate the loss\n",
        "                loss = loss_fn(outputs, targets)\n",
        "\n",
        "                # save predictions\n",
        "                y_pred.extend( outputs.argmax(dim=1).cpu().numpy() )\n",
        "\n",
        "                # accumulate correct count\n",
        "                _, preds = torch.max(outputs, 1)\n",
        "                correct_test += torch.sum(preds == targets.data)\n",
        "\n",
        "\n",
        "        # Calculate accuracy\n",
        "        train_acc = correct_train.item() / train_set.data.shape[0]\n",
        "        test_acc = correct_test.item() / test_set.data.shape[0]\n",
        "\n",
        "\n",
        "        print('Training accuracy: {:.2f}%'.format(float(train_acc) * 100))\n",
        "        print('Test accuracy: {:.2f}%'.format(float(test_acc) * 100))\n",
        "        print('Learning Rate: {:.7f}'.format(float(lr)), end='')\n",
        "        torch.save(model.state_dict(), f\"./train1/{epoch}.pt\")\n",
        "\n",
        "        # Save the best model\n",
        "        #if test_acc > best_test_acc:\n",
        "         #   best_test_acc = test_acc\n",
        "          #  torch.save( model.state_dict(), 'best_model.pt' )\n",
        "           # print( ' --> Best model saved!\\n' )\n",
        "\n",
        "\n",
        "    return train_losses, test_losses, y_pred"
      ],
      "metadata": {
        "id": "IyC6jcThIDvN"
      },
      "execution_count": null,
      "outputs": []
    },
    {
      "cell_type": "code",
      "source": [
        "a, b ,c = train(optim, model=model, num_epochs = 100,first_epoch=1)#, train_loader=train_loader,valid_loader=test_loader)"
      ],
      "metadata": {
        "colab": {
          "base_uri": "https://localhost:8080/",
          "height": 1000
        },
        "id": "X0vI0fnmIFrn",
        "outputId": "c9bb3e0c-6246-4195-dd71-8834952b9952"
      },
      "execution_count": null,
      "outputs": [
        {
          "metadata": {
            "tags": null
          },
          "name": "stdout",
          "output_type": "stream",
          "text": [
            "Epoch 1\n"
          ]
        },
        {
          "data": {
            "text/html": [
              "\n",
              "        <table style=\"width: 100%;\">\n",
              "            <tbody>\n",
              "                <tr>\n",
              "                    <td style=\"width: 30%;\">\n",
              "                     <b>Loss: 3.6649</b> &nbsp&nbsp&nbsp 50000 / 50000\n",
              "                    </td>\n",
              "                    <td style=\"width: 70%;\">\n",
              "                        <progress value='50000' max='50000', style='width: 100%'>50000</progress>\n",
              "                    </td>\n",
              "                </tr>\n",
              "            </tbody>\n",
              "        </table>\n",
              "        "
            ],
            "text/plain": [
              "<IPython.core.display.HTML object>"
            ]
          },
          "metadata": {},
          "output_type": "display_data"
        },
        {
          "metadata": {
            "tags": null
          },
          "name": "stdout",
          "output_type": "stream",
          "text": [
            "Training accuracy: 14.37%\n",
            "Test accuracy: 16.71%\n",
            "Learning Rate: 0.0015000Epoch 2\n"
          ]
        },
        {
          "data": {
            "text/html": [
              "\n",
              "        <table style=\"width: 100%;\">\n",
              "            <tbody>\n",
              "                <tr>\n",
              "                    <td style=\"width: 30%;\">\n",
              "                     <b>Loss: 3.4280</b> &nbsp&nbsp&nbsp 50000 / 50000\n",
              "                    </td>\n",
              "                    <td style=\"width: 70%;\">\n",
              "                        <progress value='50000' max='50000', style='width: 100%'>50000</progress>\n",
              "                    </td>\n",
              "                </tr>\n",
              "            </tbody>\n",
              "        </table>\n",
              "        "
            ],
            "text/plain": [
              "<IPython.core.display.HTML object>"
            ]
          },
          "metadata": {},
          "output_type": "display_data"
        },
        {
          "metadata": {
            "tags": null
          },
          "name": "stdout",
          "output_type": "stream",
          "text": [
            "Training accuracy: 17.68%\n",
            "Test accuracy: 19.47%\n",
            "Learning Rate: 0.0030000Epoch 3\n"
          ]
        },
        {
          "data": {
            "text/html": [
              "\n",
              "        <table style=\"width: 100%;\">\n",
              "            <tbody>\n",
              "                <tr>\n",
              "                    <td style=\"width: 30%;\">\n",
              "                     <b>Loss: 3.2087</b> &nbsp&nbsp&nbsp 50000 / 50000\n",
              "                    </td>\n",
              "                    <td style=\"width: 70%;\">\n",
              "                        <progress value='50000' max='50000', style='width: 100%'>50000</progress>\n",
              "                    </td>\n",
              "                </tr>\n",
              "            </tbody>\n",
              "        </table>\n",
              "        "
            ],
            "text/plain": [
              "<IPython.core.display.HTML object>"
            ]
          },
          "metadata": {},
          "output_type": "display_data"
        },
        {
          "metadata": {
            "tags": null
          },
          "name": "stdout",
          "output_type": "stream",
          "text": [
            "Training accuracy: 21.63%\n",
            "Test accuracy: 23.45%\n",
            "Learning Rate: 0.0030000Epoch 4\n"
          ]
        },
        {
          "data": {
            "text/html": [
              "\n",
              "        <table style=\"width: 100%;\">\n",
              "            <tbody>\n",
              "                <tr>\n",
              "                    <td style=\"width: 30%;\">\n",
              "                     <b>Loss: 3.0709</b> &nbsp&nbsp&nbsp 50000 / 50000\n",
              "                    </td>\n",
              "                    <td style=\"width: 70%;\">\n",
              "                        <progress value='50000' max='50000', style='width: 100%'>50000</progress>\n",
              "                    </td>\n",
              "                </tr>\n",
              "            </tbody>\n",
              "        </table>\n",
              "        "
            ],
            "text/plain": [
              "<IPython.core.display.HTML object>"
            ]
          },
          "metadata": {},
          "output_type": "display_data"
        },
        {
          "metadata": {
            "tags": null
          },
          "name": "stdout",
          "output_type": "stream",
          "text": [
            "Training accuracy: 23.94%\n",
            "Test accuracy: 23.98%\n",
            "Learning Rate: 0.0030000Epoch 5\n"
          ]
        },
        {
          "data": {
            "text/html": [
              "\n",
              "        <table style=\"width: 100%;\">\n",
              "            <tbody>\n",
              "                <tr>\n",
              "                    <td style=\"width: 30%;\">\n",
              "                     <b>Loss: 2.9719</b> &nbsp&nbsp&nbsp 50000 / 50000\n",
              "                    </td>\n",
              "                    <td style=\"width: 70%;\">\n",
              "                        <progress value='50000' max='50000', style='width: 100%'>50000</progress>\n",
              "                    </td>\n",
              "                </tr>\n",
              "            </tbody>\n",
              "        </table>\n",
              "        "
            ],
            "text/plain": [
              "<IPython.core.display.HTML object>"
            ]
          },
          "metadata": {},
          "output_type": "display_data"
        },
        {
          "metadata": {
            "tags": null
          },
          "name": "stdout",
          "output_type": "stream",
          "text": [
            "Training accuracy: 25.91%\n",
            "Test accuracy: 26.19%\n",
            "Learning Rate: 0.0030000Epoch 6\n"
          ]
        },
        {
          "data": {
            "text/html": [
              "\n",
              "        <table style=\"width: 100%;\">\n",
              "            <tbody>\n",
              "                <tr>\n",
              "                    <td style=\"width: 30%;\">\n",
              "                     <b>Loss: 2.8771</b> &nbsp&nbsp&nbsp 50000 / 50000\n",
              "                    </td>\n",
              "                    <td style=\"width: 70%;\">\n",
              "                        <progress value='50000' max='50000', style='width: 100%'>50000</progress>\n",
              "                    </td>\n",
              "                </tr>\n",
              "            </tbody>\n",
              "        </table>\n",
              "        "
            ],
            "text/plain": [
              "<IPython.core.display.HTML object>"
            ]
          },
          "metadata": {},
          "output_type": "display_data"
        },
        {
          "metadata": {
            "tags": null
          },
          "name": "stdout",
          "output_type": "stream",
          "text": [
            "Training accuracy: 27.77%\n",
            "Test accuracy: 28.15%\n",
            "Learning Rate: 0.0030000Epoch 7\n"
          ]
        },
        {
          "data": {
            "text/html": [
              "\n",
              "        <table style=\"width: 100%;\">\n",
              "            <tbody>\n",
              "                <tr>\n",
              "                    <td style=\"width: 30%;\">\n",
              "                     <b>Loss: 2.8056</b> &nbsp&nbsp&nbsp 50000 / 50000\n",
              "                    </td>\n",
              "                    <td style=\"width: 70%;\">\n",
              "                        <progress value='50000' max='50000', style='width: 100%'>50000</progress>\n",
              "                    </td>\n",
              "                </tr>\n",
              "            </tbody>\n",
              "        </table>\n",
              "        "
            ],
            "text/plain": [
              "<IPython.core.display.HTML object>"
            ]
          },
          "metadata": {},
          "output_type": "display_data"
        },
        {
          "metadata": {
            "tags": null
          },
          "name": "stdout",
          "output_type": "stream",
          "text": [
            "Training accuracy: 29.08%\n",
            "Test accuracy: 30.30%\n",
            "Learning Rate: 0.0030000Epoch 8\n"
          ]
        },
        {
          "data": {
            "text/html": [
              "\n",
              "        <table style=\"width: 100%;\">\n",
              "            <tbody>\n",
              "                <tr>\n",
              "                    <td style=\"width: 30%;\">\n",
              "                     <b>Loss: 2.7447</b> &nbsp&nbsp&nbsp 50000 / 50000\n",
              "                    </td>\n",
              "                    <td style=\"width: 70%;\">\n",
              "                        <progress value='50000' max='50000', style='width: 100%'>50000</progress>\n",
              "                    </td>\n",
              "                </tr>\n",
              "            </tbody>\n",
              "        </table>\n",
              "        "
            ],
            "text/plain": [
              "<IPython.core.display.HTML object>"
            ]
          },
          "metadata": {},
          "output_type": "display_data"
        },
        {
          "metadata": {
            "tags": null
          },
          "name": "stdout",
          "output_type": "stream",
          "text": [
            "Training accuracy: 30.31%\n",
            "Test accuracy: 31.58%\n",
            "Learning Rate: 0.0030000Epoch 9\n"
          ]
        },
        {
          "data": {
            "text/html": [
              "\n",
              "        <table style=\"width: 100%;\">\n",
              "            <tbody>\n",
              "                <tr>\n",
              "                    <td style=\"width: 30%;\">\n",
              "                     <b>Loss: 2.6775</b> &nbsp&nbsp&nbsp 50000 / 50000\n",
              "                    </td>\n",
              "                    <td style=\"width: 70%;\">\n",
              "                        <progress value='50000' max='50000', style='width: 100%'>50000</progress>\n",
              "                    </td>\n",
              "                </tr>\n",
              "            </tbody>\n",
              "        </table>\n",
              "        "
            ],
            "text/plain": [
              "<IPython.core.display.HTML object>"
            ]
          },
          "metadata": {},
          "output_type": "display_data"
        },
        {
          "metadata": {
            "tags": null
          },
          "name": "stdout",
          "output_type": "stream",
          "text": [
            "Training accuracy: 31.71%\n",
            "Test accuracy: 31.87%\n",
            "Learning Rate: 0.0030000Epoch 10\n"
          ]
        },
        {
          "data": {
            "text/html": [
              "\n",
              "        <table style=\"width: 100%;\">\n",
              "            <tbody>\n",
              "                <tr>\n",
              "                    <td style=\"width: 30%;\">\n",
              "                     <b>Loss: 2.6237</b> &nbsp&nbsp&nbsp 50000 / 50000\n",
              "                    </td>\n",
              "                    <td style=\"width: 70%;\">\n",
              "                        <progress value='50000' max='50000', style='width: 100%'>50000</progress>\n",
              "                    </td>\n",
              "                </tr>\n",
              "            </tbody>\n",
              "        </table>\n",
              "        "
            ],
            "text/plain": [
              "<IPython.core.display.HTML object>"
            ]
          },
          "metadata": {},
          "output_type": "display_data"
        },
        {
          "metadata": {
            "tags": null
          },
          "name": "stdout",
          "output_type": "stream",
          "text": [
            "Training accuracy: 32.69%\n",
            "Test accuracy: 33.04%\n",
            "Learning Rate: 0.0030000Epoch 11\n"
          ]
        },
        {
          "data": {
            "text/html": [
              "\n",
              "        <table style=\"width: 100%;\">\n",
              "            <tbody>\n",
              "                <tr>\n",
              "                    <td style=\"width: 30%;\">\n",
              "                     <b>Loss: 2.5708</b> &nbsp&nbsp&nbsp 50000 / 50000\n",
              "                    </td>\n",
              "                    <td style=\"width: 70%;\">\n",
              "                        <progress value='50000' max='50000', style='width: 100%'>50000</progress>\n",
              "                    </td>\n",
              "                </tr>\n",
              "            </tbody>\n",
              "        </table>\n",
              "        "
            ],
            "text/plain": [
              "<IPython.core.display.HTML object>"
            ]
          },
          "metadata": {},
          "output_type": "display_data"
        },
        {
          "metadata": {
            "tags": null
          },
          "name": "stdout",
          "output_type": "stream",
          "text": [
            "Training accuracy: 33.85%\n",
            "Test accuracy: 34.83%\n",
            "Learning Rate: 0.0030000Epoch 12\n"
          ]
        },
        {
          "data": {
            "text/html": [
              "\n",
              "        <table style=\"width: 100%;\">\n",
              "            <tbody>\n",
              "                <tr>\n",
              "                    <td style=\"width: 30%;\">\n",
              "                     <b>Loss: 2.5180</b> &nbsp&nbsp&nbsp 50000 / 50000\n",
              "                    </td>\n",
              "                    <td style=\"width: 70%;\">\n",
              "                        <progress value='50000' max='50000', style='width: 100%'>50000</progress>\n",
              "                    </td>\n",
              "                </tr>\n",
              "            </tbody>\n",
              "        </table>\n",
              "        "
            ],
            "text/plain": [
              "<IPython.core.display.HTML object>"
            ]
          },
          "metadata": {},
          "output_type": "display_data"
        },
        {
          "metadata": {
            "tags": null
          },
          "name": "stdout",
          "output_type": "stream",
          "text": [
            "Training accuracy: 35.12%\n",
            "Test accuracy: 35.18%\n",
            "Learning Rate: 0.0030000Epoch 13\n"
          ]
        },
        {
          "data": {
            "text/html": [
              "\n",
              "        <table style=\"width: 100%;\">\n",
              "            <tbody>\n",
              "                <tr>\n",
              "                    <td style=\"width: 30%;\">\n",
              "                     <b>Loss: 2.4734</b> &nbsp&nbsp&nbsp 50000 / 50000\n",
              "                    </td>\n",
              "                    <td style=\"width: 70%;\">\n",
              "                        <progress value='50000' max='50000', style='width: 100%'>50000</progress>\n",
              "                    </td>\n",
              "                </tr>\n",
              "            </tbody>\n",
              "        </table>\n",
              "        "
            ],
            "text/plain": [
              "<IPython.core.display.HTML object>"
            ]
          },
          "metadata": {},
          "output_type": "display_data"
        },
        {
          "metadata": {
            "tags": null
          },
          "name": "stdout",
          "output_type": "stream",
          "text": [
            "Training accuracy: 36.00%\n",
            "Test accuracy: 35.95%\n",
            "Learning Rate: 0.0030000Epoch 14\n"
          ]
        },
        {
          "data": {
            "text/html": [
              "\n",
              "        <table style=\"width: 100%;\">\n",
              "            <tbody>\n",
              "                <tr>\n",
              "                    <td style=\"width: 30%;\">\n",
              "                     <b>Loss: 2.4348</b> &nbsp&nbsp&nbsp 50000 / 50000\n",
              "                    </td>\n",
              "                    <td style=\"width: 70%;\">\n",
              "                        <progress value='50000' max='50000', style='width: 100%'>50000</progress>\n",
              "                    </td>\n",
              "                </tr>\n",
              "            </tbody>\n",
              "        </table>\n",
              "        "
            ],
            "text/plain": [
              "<IPython.core.display.HTML object>"
            ]
          },
          "metadata": {},
          "output_type": "display_data"
        },
        {
          "metadata": {
            "tags": null
          },
          "name": "stdout",
          "output_type": "stream",
          "text": [
            "Training accuracy: 36.66%\n",
            "Test accuracy: 36.57%\n",
            "Learning Rate: 0.0030000Epoch 15\n"
          ]
        },
        {
          "data": {
            "text/html": [
              "\n",
              "        <table style=\"width: 100%;\">\n",
              "            <tbody>\n",
              "                <tr>\n",
              "                    <td style=\"width: 30%;\">\n",
              "                     <b>Loss: 2.3948</b> &nbsp&nbsp&nbsp 50000 / 50000\n",
              "                    </td>\n",
              "                    <td style=\"width: 70%;\">\n",
              "                        <progress value='50000' max='50000', style='width: 100%'>50000</progress>\n",
              "                    </td>\n",
              "                </tr>\n",
              "            </tbody>\n",
              "        </table>\n",
              "        "
            ],
            "text/plain": [
              "<IPython.core.display.HTML object>"
            ]
          },
          "metadata": {},
          "output_type": "display_data"
        },
        {
          "metadata": {
            "tags": null
          },
          "name": "stdout",
          "output_type": "stream",
          "text": [
            "Training accuracy: 37.62%\n",
            "Test accuracy: 37.19%\n",
            "Learning Rate: 0.0030000Epoch 16\n"
          ]
        },
        {
          "data": {
            "text/html": [
              "\n",
              "        <table style=\"width: 100%;\">\n",
              "            <tbody>\n",
              "                <tr>\n",
              "                    <td style=\"width: 30%;\">\n",
              "                     <b>Loss: 2.3574</b> &nbsp&nbsp&nbsp 50000 / 50000\n",
              "                    </td>\n",
              "                    <td style=\"width: 70%;\">\n",
              "                        <progress value='50000' max='50000', style='width: 100%'>50000</progress>\n",
              "                    </td>\n",
              "                </tr>\n",
              "            </tbody>\n",
              "        </table>\n",
              "        "
            ],
            "text/plain": [
              "<IPython.core.display.HTML object>"
            ]
          },
          "metadata": {},
          "output_type": "display_data"
        },
        {
          "metadata": {
            "tags": null
          },
          "name": "stdout",
          "output_type": "stream",
          "text": [
            "Training accuracy: 38.50%\n",
            "Test accuracy: 38.48%\n",
            "Learning Rate: 0.0030000Epoch 17\n"
          ]
        },
        {
          "data": {
            "text/html": [
              "\n",
              "        <table style=\"width: 100%;\">\n",
              "            <tbody>\n",
              "                <tr>\n",
              "                    <td style=\"width: 30%;\">\n",
              "                     <b>Loss: 2.3304</b> &nbsp&nbsp&nbsp 50000 / 50000\n",
              "                    </td>\n",
              "                    <td style=\"width: 70%;\">\n",
              "                        <progress value='50000' max='50000', style='width: 100%'>50000</progress>\n",
              "                    </td>\n",
              "                </tr>\n",
              "            </tbody>\n",
              "        </table>\n",
              "        "
            ],
            "text/plain": [
              "<IPython.core.display.HTML object>"
            ]
          },
          "metadata": {},
          "output_type": "display_data"
        },
        {
          "metadata": {
            "tags": null
          },
          "name": "stdout",
          "output_type": "stream",
          "text": [
            "Training accuracy: 38.96%\n",
            "Test accuracy: 38.88%\n",
            "Learning Rate: 0.0030000Epoch 18\n"
          ]
        },
        {
          "data": {
            "text/html": [
              "\n",
              "        <table style=\"width: 100%;\">\n",
              "            <tbody>\n",
              "                <tr>\n",
              "                    <td style=\"width: 30%;\">\n",
              "                     <b>Loss: 2.2886</b> &nbsp&nbsp&nbsp 50000 / 50000\n",
              "                    </td>\n",
              "                    <td style=\"width: 70%;\">\n",
              "                        <progress value='50000' max='50000', style='width: 100%'>50000</progress>\n",
              "                    </td>\n",
              "                </tr>\n",
              "            </tbody>\n",
              "        </table>\n",
              "        "
            ],
            "text/plain": [
              "<IPython.core.display.HTML object>"
            ]
          },
          "metadata": {},
          "output_type": "display_data"
        },
        {
          "metadata": {
            "tags": null
          },
          "name": "stdout",
          "output_type": "stream",
          "text": [
            "Training accuracy: 39.92%\n",
            "Test accuracy: 39.50%\n",
            "Learning Rate: 0.0030000Epoch 19\n"
          ]
        },
        {
          "data": {
            "text/html": [
              "\n",
              "        <table style=\"width: 100%;\">\n",
              "            <tbody>\n",
              "                <tr>\n",
              "                    <td style=\"width: 30%;\">\n",
              "                     <b>Loss: 2.2617</b> &nbsp&nbsp&nbsp 50000 / 50000\n",
              "                    </td>\n",
              "                    <td style=\"width: 70%;\">\n",
              "                        <progress value='50000' max='50000', style='width: 100%'>50000</progress>\n",
              "                    </td>\n",
              "                </tr>\n",
              "            </tbody>\n",
              "        </table>\n",
              "        "
            ],
            "text/plain": [
              "<IPython.core.display.HTML object>"
            ]
          },
          "metadata": {},
          "output_type": "display_data"
        },
        {
          "metadata": {
            "tags": null
          },
          "name": "stdout",
          "output_type": "stream",
          "text": [
            "Training accuracy: 40.41%\n",
            "Test accuracy: 39.62%\n",
            "Learning Rate: 0.0030000Epoch 20\n"
          ]
        },
        {
          "data": {
            "text/html": [
              "\n",
              "        <table style=\"width: 100%;\">\n",
              "            <tbody>\n",
              "                <tr>\n",
              "                    <td style=\"width: 30%;\">\n",
              "                     <b>Loss: 2.2350</b> &nbsp&nbsp&nbsp 50000 / 50000\n",
              "                    </td>\n",
              "                    <td style=\"width: 70%;\">\n",
              "                        <progress value='50000' max='50000', style='width: 100%'>50000</progress>\n",
              "                    </td>\n",
              "                </tr>\n",
              "            </tbody>\n",
              "        </table>\n",
              "        "
            ],
            "text/plain": [
              "<IPython.core.display.HTML object>"
            ]
          },
          "metadata": {},
          "output_type": "display_data"
        },
        {
          "metadata": {
            "tags": null
          },
          "name": "stdout",
          "output_type": "stream",
          "text": [
            "Training accuracy: 41.27%\n",
            "Test accuracy: 40.16%\n",
            "Learning Rate: 0.0030000Epoch 21\n"
          ]
        },
        {
          "data": {
            "text/html": [
              "\n",
              "        <table style=\"width: 100%;\">\n",
              "            <tbody>\n",
              "                <tr>\n",
              "                    <td style=\"width: 30%;\">\n",
              "                     <b>Loss: 2.2080</b> &nbsp&nbsp&nbsp 50000 / 50000\n",
              "                    </td>\n",
              "                    <td style=\"width: 70%;\">\n",
              "                        <progress value='50000' max='50000', style='width: 100%'>50000</progress>\n",
              "                    </td>\n",
              "                </tr>\n",
              "            </tbody>\n",
              "        </table>\n",
              "        "
            ],
            "text/plain": [
              "<IPython.core.display.HTML object>"
            ]
          },
          "metadata": {},
          "output_type": "display_data"
        },
        {
          "metadata": {
            "tags": null
          },
          "name": "stdout",
          "output_type": "stream",
          "text": [
            "Training accuracy: 41.81%\n",
            "Test accuracy: 41.03%\n",
            "Learning Rate: 0.0030000Epoch 22\n"
          ]
        },
        {
          "data": {
            "text/html": [
              "\n",
              "        <table style=\"width: 100%;\">\n",
              "            <tbody>\n",
              "                <tr>\n",
              "                    <td style=\"width: 30%;\">\n",
              "                     <b>Loss: 2.1731</b> &nbsp&nbsp&nbsp 50000 / 50000\n",
              "                    </td>\n",
              "                    <td style=\"width: 70%;\">\n",
              "                        <progress value='50000' max='50000', style='width: 100%'>50000</progress>\n",
              "                    </td>\n",
              "                </tr>\n",
              "            </tbody>\n",
              "        </table>\n",
              "        "
            ],
            "text/plain": [
              "<IPython.core.display.HTML object>"
            ]
          },
          "metadata": {},
          "output_type": "display_data"
        },
        {
          "metadata": {
            "tags": null
          },
          "name": "stdout",
          "output_type": "stream",
          "text": [
            "Training accuracy: 42.59%\n",
            "Test accuracy: 41.75%\n",
            "Learning Rate: 0.0030000Epoch 23\n"
          ]
        },
        {
          "data": {
            "text/html": [
              "\n",
              "        <table style=\"width: 100%;\">\n",
              "            <tbody>\n",
              "                <tr>\n",
              "                    <td style=\"width: 30%;\">\n",
              "                     <b>Loss: 2.1523</b> &nbsp&nbsp&nbsp 50000 / 50000\n",
              "                    </td>\n",
              "                    <td style=\"width: 70%;\">\n",
              "                        <progress value='50000' max='50000', style='width: 100%'>50000</progress>\n",
              "                    </td>\n",
              "                </tr>\n",
              "            </tbody>\n",
              "        </table>\n",
              "        "
            ],
            "text/plain": [
              "<IPython.core.display.HTML object>"
            ]
          },
          "metadata": {},
          "output_type": "display_data"
        },
        {
          "metadata": {
            "tags": null
          },
          "name": "stdout",
          "output_type": "stream",
          "text": [
            "Training accuracy: 42.94%\n",
            "Test accuracy: 41.87%\n",
            "Learning Rate: 0.0030000Epoch 24\n"
          ]
        },
        {
          "data": {
            "text/html": [
              "\n",
              "        <table style=\"width: 100%;\">\n",
              "            <tbody>\n",
              "                <tr>\n",
              "                    <td style=\"width: 30%;\">\n",
              "                     <b>Loss: 2.1285</b> &nbsp&nbsp&nbsp 50000 / 50000\n",
              "                    </td>\n",
              "                    <td style=\"width: 70%;\">\n",
              "                        <progress value='50000' max='50000', style='width: 100%'>50000</progress>\n",
              "                    </td>\n",
              "                </tr>\n",
              "            </tbody>\n",
              "        </table>\n",
              "        "
            ],
            "text/plain": [
              "<IPython.core.display.HTML object>"
            ]
          },
          "metadata": {},
          "output_type": "display_data"
        },
        {
          "metadata": {
            "tags": null
          },
          "name": "stdout",
          "output_type": "stream",
          "text": [
            "Training accuracy: 43.52%\n",
            "Test accuracy: 41.26%\n",
            "Learning Rate: 0.0030000Epoch 25\n"
          ]
        },
        {
          "data": {
            "text/html": [
              "\n",
              "        <table style=\"width: 100%;\">\n",
              "            <tbody>\n",
              "                <tr>\n",
              "                    <td style=\"width: 30%;\">\n",
              "                     <b>Loss: 2.1083</b> &nbsp&nbsp&nbsp 50000 / 50000\n",
              "                    </td>\n",
              "                    <td style=\"width: 70%;\">\n",
              "                        <progress value='50000' max='50000', style='width: 100%'>50000</progress>\n",
              "                    </td>\n",
              "                </tr>\n",
              "            </tbody>\n",
              "        </table>\n",
              "        "
            ],
            "text/plain": [
              "<IPython.core.display.HTML object>"
            ]
          },
          "metadata": {},
          "output_type": "display_data"
        },
        {
          "metadata": {
            "tags": null
          },
          "name": "stdout",
          "output_type": "stream",
          "text": [
            "Training accuracy: 43.74%\n",
            "Test accuracy: 42.77%\n",
            "Learning Rate: 0.0030000Epoch 26\n"
          ]
        },
        {
          "data": {
            "text/html": [
              "\n",
              "        <table style=\"width: 100%;\">\n",
              "            <tbody>\n",
              "                <tr>\n",
              "                    <td style=\"width: 30%;\">\n",
              "                     <b>Loss: 2.0838</b> &nbsp&nbsp&nbsp 50000 / 50000\n",
              "                    </td>\n",
              "                    <td style=\"width: 70%;\">\n",
              "                        <progress value='50000' max='50000', style='width: 100%'>50000</progress>\n",
              "                    </td>\n",
              "                </tr>\n",
              "            </tbody>\n",
              "        </table>\n",
              "        "
            ],
            "text/plain": [
              "<IPython.core.display.HTML object>"
            ]
          },
          "metadata": {},
          "output_type": "display_data"
        },
        {
          "metadata": {
            "tags": null
          },
          "name": "stdout",
          "output_type": "stream",
          "text": [
            "Training accuracy: 44.73%\n",
            "Test accuracy: 42.85%\n",
            "Learning Rate: 0.0030000Epoch 27\n"
          ]
        },
        {
          "data": {
            "text/html": [
              "\n",
              "        <table style=\"width: 100%;\">\n",
              "            <tbody>\n",
              "                <tr>\n",
              "                    <td style=\"width: 30%;\">\n",
              "                     <b>Loss: 2.0642</b> &nbsp&nbsp&nbsp 50000 / 50000\n",
              "                    </td>\n",
              "                    <td style=\"width: 70%;\">\n",
              "                        <progress value='50000' max='50000', style='width: 100%'>50000</progress>\n",
              "                    </td>\n",
              "                </tr>\n",
              "            </tbody>\n",
              "        </table>\n",
              "        "
            ],
            "text/plain": [
              "<IPython.core.display.HTML object>"
            ]
          },
          "metadata": {},
          "output_type": "display_data"
        },
        {
          "metadata": {
            "tags": null
          },
          "name": "stdout",
          "output_type": "stream",
          "text": [
            "Training accuracy: 45.07%\n",
            "Test accuracy: 44.07%\n",
            "Learning Rate: 0.0030000Epoch 28\n"
          ]
        },
        {
          "data": {
            "text/html": [
              "\n",
              "        <table style=\"width: 100%;\">\n",
              "            <tbody>\n",
              "                <tr>\n",
              "                    <td style=\"width: 30%;\">\n",
              "                     <b>Loss: 2.0485</b> &nbsp&nbsp&nbsp 50000 / 50000\n",
              "                    </td>\n",
              "                    <td style=\"width: 70%;\">\n",
              "                        <progress value='50000' max='50000', style='width: 100%'>50000</progress>\n",
              "                    </td>\n",
              "                </tr>\n",
              "            </tbody>\n",
              "        </table>\n",
              "        "
            ],
            "text/plain": [
              "<IPython.core.display.HTML object>"
            ]
          },
          "metadata": {},
          "output_type": "display_data"
        },
        {
          "metadata": {
            "tags": null
          },
          "name": "stdout",
          "output_type": "stream",
          "text": [
            "Training accuracy: 45.23%\n",
            "Test accuracy: 43.77%\n",
            "Learning Rate: 0.0030000Epoch 29\n"
          ]
        },
        {
          "data": {
            "text/html": [
              "\n",
              "        <table style=\"width: 100%;\">\n",
              "            <tbody>\n",
              "                <tr>\n",
              "                    <td style=\"width: 30%;\">\n",
              "                     <b>Loss: 2.0266</b> &nbsp&nbsp&nbsp 50000 / 50000\n",
              "                    </td>\n",
              "                    <td style=\"width: 70%;\">\n",
              "                        <progress value='50000' max='50000', style='width: 100%'>50000</progress>\n",
              "                    </td>\n",
              "                </tr>\n",
              "            </tbody>\n",
              "        </table>\n",
              "        "
            ],
            "text/plain": [
              "<IPython.core.display.HTML object>"
            ]
          },
          "metadata": {},
          "output_type": "display_data"
        },
        {
          "metadata": {
            "tags": null
          },
          "name": "stdout",
          "output_type": "stream",
          "text": [
            "Training accuracy: 46.04%\n",
            "Test accuracy: 44.86%\n",
            "Learning Rate: 0.0030000Epoch 30\n"
          ]
        },
        {
          "data": {
            "text/html": [
              "\n",
              "        <table style=\"width: 100%;\">\n",
              "            <tbody>\n",
              "                <tr>\n",
              "                    <td style=\"width: 30%;\">\n",
              "                     <b>Loss: 2.0051</b> &nbsp&nbsp&nbsp 50000 / 50000\n",
              "                    </td>\n",
              "                    <td style=\"width: 70%;\">\n",
              "                        <progress value='50000' max='50000', style='width: 100%'>50000</progress>\n",
              "                    </td>\n",
              "                </tr>\n",
              "            </tbody>\n",
              "        </table>\n",
              "        "
            ],
            "text/plain": [
              "<IPython.core.display.HTML object>"
            ]
          },
          "metadata": {},
          "output_type": "display_data"
        },
        {
          "metadata": {
            "tags": null
          },
          "name": "stdout",
          "output_type": "stream",
          "text": [
            "Training accuracy: 46.19%\n",
            "Test accuracy: 44.81%\n",
            "Learning Rate: 0.0030000Epoch 31\n"
          ]
        },
        {
          "data": {
            "text/html": [
              "\n",
              "        <table style=\"width: 100%;\">\n",
              "            <tbody>\n",
              "                <tr>\n",
              "                    <td style=\"width: 30%;\">\n",
              "                     <b>Loss: 1.9932</b> &nbsp&nbsp&nbsp 50000 / 50000\n",
              "                    </td>\n",
              "                    <td style=\"width: 70%;\">\n",
              "                        <progress value='50000' max='50000', style='width: 100%'>50000</progress>\n",
              "                    </td>\n",
              "                </tr>\n",
              "            </tbody>\n",
              "        </table>\n",
              "        "
            ],
            "text/plain": [
              "<IPython.core.display.HTML object>"
            ]
          },
          "metadata": {},
          "output_type": "display_data"
        },
        {
          "metadata": {
            "tags": null
          },
          "name": "stdout",
          "output_type": "stream",
          "text": [
            "Training accuracy: 46.57%\n",
            "Test accuracy: 44.41%\n",
            "Learning Rate: 0.0030000Epoch 32\n"
          ]
        },
        {
          "data": {
            "text/html": [
              "\n",
              "        <table style=\"width: 100%;\">\n",
              "            <tbody>\n",
              "                <tr>\n",
              "                    <td style=\"width: 30%;\">\n",
              "                     <b>Loss: 1.9715</b> &nbsp&nbsp&nbsp 50000 / 50000\n",
              "                    </td>\n",
              "                    <td style=\"width: 70%;\">\n",
              "                        <progress value='50000' max='50000', style='width: 100%'>50000</progress>\n",
              "                    </td>\n",
              "                </tr>\n",
              "            </tbody>\n",
              "        </table>\n",
              "        "
            ],
            "text/plain": [
              "<IPython.core.display.HTML object>"
            ]
          },
          "metadata": {},
          "output_type": "display_data"
        },
        {
          "metadata": {
            "tags": null
          },
          "name": "stdout",
          "output_type": "stream",
          "text": [
            "Training accuracy: 47.26%\n",
            "Test accuracy: 45.46%\n",
            "Learning Rate: 0.0030000Epoch 33\n"
          ]
        },
        {
          "data": {
            "text/html": [
              "\n",
              "        <table style=\"width: 100%;\">\n",
              "            <tbody>\n",
              "                <tr>\n",
              "                    <td style=\"width: 30%;\">\n",
              "                     <b>Loss: 1.9570</b> &nbsp&nbsp&nbsp 50000 / 50000\n",
              "                    </td>\n",
              "                    <td style=\"width: 70%;\">\n",
              "                        <progress value='50000' max='50000', style='width: 100%'>50000</progress>\n",
              "                    </td>\n",
              "                </tr>\n",
              "            </tbody>\n",
              "        </table>\n",
              "        "
            ],
            "text/plain": [
              "<IPython.core.display.HTML object>"
            ]
          },
          "metadata": {},
          "output_type": "display_data"
        },
        {
          "metadata": {
            "tags": null
          },
          "name": "stdout",
          "output_type": "stream",
          "text": [
            "Training accuracy: 47.15%\n",
            "Test accuracy: 45.44%\n",
            "Learning Rate: 0.0030000Epoch 34\n"
          ]
        },
        {
          "data": {
            "text/html": [
              "\n",
              "        <table style=\"width: 100%;\">\n",
              "            <tbody>\n",
              "                <tr>\n",
              "                    <td style=\"width: 30%;\">\n",
              "                     <b>Loss: 1.9375</b> &nbsp&nbsp&nbsp 50000 / 50000\n",
              "                    </td>\n",
              "                    <td style=\"width: 70%;\">\n",
              "                        <progress value='50000' max='50000', style='width: 100%'>50000</progress>\n",
              "                    </td>\n",
              "                </tr>\n",
              "            </tbody>\n",
              "        </table>\n",
              "        "
            ],
            "text/plain": [
              "<IPython.core.display.HTML object>"
            ]
          },
          "metadata": {},
          "output_type": "display_data"
        },
        {
          "metadata": {
            "tags": null
          },
          "name": "stdout",
          "output_type": "stream",
          "text": [
            "Training accuracy: 47.50%\n",
            "Test accuracy: 45.50%\n",
            "Learning Rate: 0.0030000Epoch 35\n"
          ]
        },
        {
          "data": {
            "text/html": [
              "\n",
              "        <table style=\"width: 100%;\">\n",
              "            <tbody>\n",
              "                <tr>\n",
              "                    <td style=\"width: 30%;\">\n",
              "                     <b>Loss: 1.8068</b> &nbsp&nbsp&nbsp 50000 / 50000\n",
              "                    </td>\n",
              "                    <td style=\"width: 70%;\">\n",
              "                        <progress value='50000' max='50000', style='width: 100%'>50000</progress>\n",
              "                    </td>\n",
              "                </tr>\n",
              "            </tbody>\n",
              "        </table>\n",
              "        "
            ],
            "text/plain": [
              "<IPython.core.display.HTML object>"
            ]
          },
          "metadata": {},
          "output_type": "display_data"
        },
        {
          "metadata": {
            "tags": null
          },
          "name": "stdout",
          "output_type": "stream",
          "text": [
            "Training accuracy: 51.24%\n",
            "Test accuracy: 48.58%\n",
            "Learning Rate: 0.0003000Epoch 36\n"
          ]
        },
        {
          "data": {
            "text/html": [
              "\n",
              "        <table style=\"width: 100%;\">\n",
              "            <tbody>\n",
              "                <tr>\n",
              "                    <td style=\"width: 30%;\">\n",
              "                     <b>Loss: 1.7774</b> &nbsp&nbsp&nbsp 50000 / 50000\n",
              "                    </td>\n",
              "                    <td style=\"width: 70%;\">\n",
              "                        <progress value='50000' max='50000', style='width: 100%'>50000</progress>\n",
              "                    </td>\n",
              "                </tr>\n",
              "            </tbody>\n",
              "        </table>\n",
              "        "
            ],
            "text/plain": [
              "<IPython.core.display.HTML object>"
            ]
          },
          "metadata": {},
          "output_type": "display_data"
        },
        {
          "metadata": {
            "tags": null
          },
          "name": "stdout",
          "output_type": "stream",
          "text": [
            "Training accuracy: 51.98%\n",
            "Test accuracy: 48.23%\n",
            "Learning Rate: 0.0003000Epoch 37\n"
          ]
        },
        {
          "data": {
            "text/html": [
              "\n",
              "        <table style=\"width: 100%;\">\n",
              "            <tbody>\n",
              "                <tr>\n",
              "                    <td style=\"width: 30%;\">\n",
              "                     <b>Loss: 1.7711</b> &nbsp&nbsp&nbsp 50000 / 50000\n",
              "                    </td>\n",
              "                    <td style=\"width: 70%;\">\n",
              "                        <progress value='50000' max='50000', style='width: 100%'>50000</progress>\n",
              "                    </td>\n",
              "                </tr>\n",
              "            </tbody>\n",
              "        </table>\n",
              "        "
            ],
            "text/plain": [
              "<IPython.core.display.HTML object>"
            ]
          },
          "metadata": {},
          "output_type": "display_data"
        },
        {
          "metadata": {
            "tags": null
          },
          "name": "stdout",
          "output_type": "stream",
          "text": [
            "Training accuracy: 52.26%\n",
            "Test accuracy: 48.70%\n",
            "Learning Rate: 0.0003000Epoch 38\n"
          ]
        },
        {
          "data": {
            "text/html": [
              "\n",
              "        <table style=\"width: 100%;\">\n",
              "            <tbody>\n",
              "                <tr>\n",
              "                    <td style=\"width: 30%;\">\n",
              "                     <b>Loss: 1.7611</b> &nbsp&nbsp&nbsp 50000 / 50000\n",
              "                    </td>\n",
              "                    <td style=\"width: 70%;\">\n",
              "                        <progress value='50000' max='50000', style='width: 100%'>50000</progress>\n",
              "                    </td>\n",
              "                </tr>\n",
              "            </tbody>\n",
              "        </table>\n",
              "        "
            ],
            "text/plain": [
              "<IPython.core.display.HTML object>"
            ]
          },
          "metadata": {},
          "output_type": "display_data"
        },
        {
          "metadata": {
            "tags": null
          },
          "name": "stdout",
          "output_type": "stream",
          "text": [
            "Training accuracy: 52.32%\n",
            "Test accuracy: 48.61%\n",
            "Learning Rate: 0.0003000Epoch 39\n"
          ]
        },
        {
          "data": {
            "text/html": [
              "\n",
              "        <table style=\"width: 100%;\">\n",
              "            <tbody>\n",
              "                <tr>\n",
              "                    <td style=\"width: 30%;\">\n",
              "                     <b>Loss: 1.7565</b> &nbsp&nbsp&nbsp 50000 / 50000\n",
              "                    </td>\n",
              "                    <td style=\"width: 70%;\">\n",
              "                        <progress value='50000' max='50000', style='width: 100%'>50000</progress>\n",
              "                    </td>\n",
              "                </tr>\n",
              "            </tbody>\n",
              "        </table>\n",
              "        "
            ],
            "text/plain": [
              "<IPython.core.display.HTML object>"
            ]
          },
          "metadata": {},
          "output_type": "display_data"
        },
        {
          "metadata": {
            "tags": null
          },
          "name": "stdout",
          "output_type": "stream",
          "text": [
            "Training accuracy: 52.42%\n",
            "Test accuracy: 48.58%\n",
            "Learning Rate: 0.0003000Epoch 40\n"
          ]
        },
        {
          "data": {
            "text/html": [
              "\n",
              "        <table style=\"width: 100%;\">\n",
              "            <tbody>\n",
              "                <tr>\n",
              "                    <td style=\"width: 30%;\">\n",
              "                     <b>Loss: 1.7497</b> &nbsp&nbsp&nbsp 50000 / 50000\n",
              "                    </td>\n",
              "                    <td style=\"width: 70%;\">\n",
              "                        <progress value='50000' max='50000', style='width: 100%'>50000</progress>\n",
              "                    </td>\n",
              "                </tr>\n",
              "            </tbody>\n",
              "        </table>\n",
              "        "
            ],
            "text/plain": [
              "<IPython.core.display.HTML object>"
            ]
          },
          "metadata": {},
          "output_type": "display_data"
        },
        {
          "metadata": {
            "tags": null
          },
          "name": "stdout",
          "output_type": "stream",
          "text": [
            "Training accuracy: 52.81%\n",
            "Test accuracy: 48.55%\n",
            "Learning Rate: 0.0003000Epoch 41\n"
          ]
        },
        {
          "data": {
            "text/html": [
              "\n",
              "        <table style=\"width: 100%;\">\n",
              "            <tbody>\n",
              "                <tr>\n",
              "                    <td style=\"width: 30%;\">\n",
              "                     <b>Loss: 1.7418</b> &nbsp&nbsp&nbsp 50000 / 50000\n",
              "                    </td>\n",
              "                    <td style=\"width: 70%;\">\n",
              "                        <progress value='50000' max='50000', style='width: 100%'>50000</progress>\n",
              "                    </td>\n",
              "                </tr>\n",
              "            </tbody>\n",
              "        </table>\n",
              "        "
            ],
            "text/plain": [
              "<IPython.core.display.HTML object>"
            ]
          },
          "metadata": {},
          "output_type": "display_data"
        },
        {
          "metadata": {
            "tags": null
          },
          "name": "stdout",
          "output_type": "stream",
          "text": [
            "Training accuracy: 52.64%\n",
            "Test accuracy: 48.91%\n",
            "Learning Rate: 0.0003000Epoch 42\n"
          ]
        },
        {
          "data": {
            "text/html": [
              "\n",
              "        <table style=\"width: 100%;\">\n",
              "            <tbody>\n",
              "                <tr>\n",
              "                    <td style=\"width: 30%;\">\n",
              "                     <b>Loss: 1.7367</b> &nbsp&nbsp&nbsp 22752 / 50000\n",
              "                    </td>\n",
              "                    <td style=\"width: 70%;\">\n",
              "                        <progress value='22752' max='50000', style='width: 100%'>22752</progress>\n",
              "                    </td>\n",
              "                </tr>\n",
              "            </tbody>\n",
              "        </table>\n",
              "        "
            ],
            "text/plain": [
              "<IPython.core.display.HTML object>"
            ]
          },
          "metadata": {},
          "output_type": "display_data"
        },
        {
          "output_type": "display_data",
          "data": {
            "text/plain": [
              "<IPython.core.display.HTML object>"
            ],
            "text/html": [
              "\n",
              "        <table style=\"width: 100%;\">\n",
              "            <tbody>\n",
              "                <tr>\n",
              "                    <td style=\"width: 30%;\">\n",
              "                     <b>Loss: 1.7435</b> &nbsp&nbsp&nbsp 50000 / 50000\n",
              "                    </td>\n",
              "                    <td style=\"width: 70%;\">\n",
              "                        <progress value='50000' max='50000', style='width: 100%'>50000</progress>\n",
              "                    </td>\n",
              "                </tr>\n",
              "            </tbody>\n",
              "        </table>\n",
              "        "
            ]
          },
          "metadata": {}
        },
        {
          "output_type": "stream",
          "name": "stdout",
          "text": [
            "Training accuracy: 52.63%\n",
            "Test accuracy: 48.71%\n",
            "Learning Rate: 0.0003000Epoch 43\n"
          ]
        },
        {
          "output_type": "display_data",
          "data": {
            "text/plain": [
              "<IPython.core.display.HTML object>"
            ],
            "text/html": [
              "\n",
              "        <table style=\"width: 100%;\">\n",
              "            <tbody>\n",
              "                <tr>\n",
              "                    <td style=\"width: 30%;\">\n",
              "                     <b>Loss: 1.7395</b> &nbsp&nbsp&nbsp 50000 / 50000\n",
              "                    </td>\n",
              "                    <td style=\"width: 70%;\">\n",
              "                        <progress value='50000' max='50000', style='width: 100%'>50000</progress>\n",
              "                    </td>\n",
              "                </tr>\n",
              "            </tbody>\n",
              "        </table>\n",
              "        "
            ]
          },
          "metadata": {}
        },
        {
          "output_type": "stream",
          "name": "stdout",
          "text": [
            "Training accuracy: 52.71%\n",
            "Test accuracy: 48.70%\n",
            "Learning Rate: 0.0003000Epoch 44\n"
          ]
        },
        {
          "output_type": "display_data",
          "data": {
            "text/plain": [
              "<IPython.core.display.HTML object>"
            ],
            "text/html": [
              "\n",
              "        <table style=\"width: 100%;\">\n",
              "            <tbody>\n",
              "                <tr>\n",
              "                    <td style=\"width: 30%;\">\n",
              "                     <b>Loss: 1.7375</b> &nbsp&nbsp&nbsp 50000 / 50000\n",
              "                    </td>\n",
              "                    <td style=\"width: 70%;\">\n",
              "                        <progress value='50000' max='50000', style='width: 100%'>50000</progress>\n",
              "                    </td>\n",
              "                </tr>\n",
              "            </tbody>\n",
              "        </table>\n",
              "        "
            ]
          },
          "metadata": {}
        },
        {
          "output_type": "stream",
          "name": "stdout",
          "text": [
            "Training accuracy: 52.79%\n",
            "Test accuracy: 49.18%\n",
            "Learning Rate: 0.0003000Epoch 45\n"
          ]
        },
        {
          "output_type": "display_data",
          "data": {
            "text/plain": [
              "<IPython.core.display.HTML object>"
            ],
            "text/html": [
              "\n",
              "        <table style=\"width: 100%;\">\n",
              "            <tbody>\n",
              "                <tr>\n",
              "                    <td style=\"width: 30%;\">\n",
              "                     <b>Loss: 1.7349</b> &nbsp&nbsp&nbsp 50000 / 50000\n",
              "                    </td>\n",
              "                    <td style=\"width: 70%;\">\n",
              "                        <progress value='50000' max='50000', style='width: 100%'>50000</progress>\n",
              "                    </td>\n",
              "                </tr>\n",
              "            </tbody>\n",
              "        </table>\n",
              "        "
            ]
          },
          "metadata": {}
        },
        {
          "output_type": "stream",
          "name": "stdout",
          "text": [
            "Training accuracy: 52.96%\n",
            "Test accuracy: 48.75%\n",
            "Learning Rate: 0.0003000Epoch 46\n"
          ]
        },
        {
          "output_type": "display_data",
          "data": {
            "text/plain": [
              "<IPython.core.display.HTML object>"
            ],
            "text/html": [
              "\n",
              "        <table style=\"width: 100%;\">\n",
              "            <tbody>\n",
              "                <tr>\n",
              "                    <td style=\"width: 30%;\">\n",
              "                     <b>Loss: 1.7338</b> &nbsp&nbsp&nbsp 50000 / 50000\n",
              "                    </td>\n",
              "                    <td style=\"width: 70%;\">\n",
              "                        <progress value='50000' max='50000', style='width: 100%'>50000</progress>\n",
              "                    </td>\n",
              "                </tr>\n",
              "            </tbody>\n",
              "        </table>\n",
              "        "
            ]
          },
          "metadata": {}
        },
        {
          "output_type": "stream",
          "name": "stdout",
          "text": [
            "Training accuracy: 52.95%\n",
            "Test accuracy: 49.06%\n",
            "Learning Rate: 0.0003000Epoch 47\n"
          ]
        },
        {
          "output_type": "display_data",
          "data": {
            "text/plain": [
              "<IPython.core.display.HTML object>"
            ],
            "text/html": [
              "\n",
              "        <table style=\"width: 100%;\">\n",
              "            <tbody>\n",
              "                <tr>\n",
              "                    <td style=\"width: 30%;\">\n",
              "                     <b>Loss: 1.7293</b> &nbsp&nbsp&nbsp 50000 / 50000\n",
              "                    </td>\n",
              "                    <td style=\"width: 70%;\">\n",
              "                        <progress value='50000' max='50000', style='width: 100%'>50000</progress>\n",
              "                    </td>\n",
              "                </tr>\n",
              "            </tbody>\n",
              "        </table>\n",
              "        "
            ]
          },
          "metadata": {}
        },
        {
          "output_type": "stream",
          "name": "stdout",
          "text": [
            "Training accuracy: 53.02%\n",
            "Test accuracy: 49.23%\n",
            "Learning Rate: 0.0003000Epoch 48\n"
          ]
        },
        {
          "output_type": "display_data",
          "data": {
            "text/plain": [
              "<IPython.core.display.HTML object>"
            ],
            "text/html": [
              "\n",
              "        <table style=\"width: 100%;\">\n",
              "            <tbody>\n",
              "                <tr>\n",
              "                    <td style=\"width: 30%;\">\n",
              "                     <b>Loss: 1.7276</b> &nbsp&nbsp&nbsp 50000 / 50000\n",
              "                    </td>\n",
              "                    <td style=\"width: 70%;\">\n",
              "                        <progress value='50000' max='50000', style='width: 100%'>50000</progress>\n",
              "                    </td>\n",
              "                </tr>\n",
              "            </tbody>\n",
              "        </table>\n",
              "        "
            ]
          },
          "metadata": {}
        },
        {
          "output_type": "stream",
          "name": "stdout",
          "text": [
            "Training accuracy: 53.02%\n",
            "Test accuracy: 49.24%\n",
            "Learning Rate: 0.0003000Epoch 49\n"
          ]
        },
        {
          "output_type": "display_data",
          "data": {
            "text/plain": [
              "<IPython.core.display.HTML object>"
            ],
            "text/html": [
              "\n",
              "        <table style=\"width: 100%;\">\n",
              "            <tbody>\n",
              "                <tr>\n",
              "                    <td style=\"width: 30%;\">\n",
              "                     <b>Loss: 1.7244</b> &nbsp&nbsp&nbsp 50000 / 50000\n",
              "                    </td>\n",
              "                    <td style=\"width: 70%;\">\n",
              "                        <progress value='50000' max='50000', style='width: 100%'>50000</progress>\n",
              "                    </td>\n",
              "                </tr>\n",
              "            </tbody>\n",
              "        </table>\n",
              "        "
            ]
          },
          "metadata": {}
        },
        {
          "output_type": "stream",
          "name": "stdout",
          "text": [
            "Training accuracy: 53.31%\n",
            "Test accuracy: 48.79%\n",
            "Learning Rate: 0.0003000Epoch 50\n"
          ]
        },
        {
          "output_type": "display_data",
          "data": {
            "text/plain": [
              "<IPython.core.display.HTML object>"
            ],
            "text/html": [
              "\n",
              "        <table style=\"width: 100%;\">\n",
              "            <tbody>\n",
              "                <tr>\n",
              "                    <td style=\"width: 30%;\">\n",
              "                     <b>Loss: 1.7221</b> &nbsp&nbsp&nbsp 50000 / 50000\n",
              "                    </td>\n",
              "                    <td style=\"width: 70%;\">\n",
              "                        <progress value='50000' max='50000', style='width: 100%'>50000</progress>\n",
              "                    </td>\n",
              "                </tr>\n",
              "            </tbody>\n",
              "        </table>\n",
              "        "
            ]
          },
          "metadata": {}
        },
        {
          "output_type": "stream",
          "name": "stdout",
          "text": [
            "Training accuracy: 53.38%\n",
            "Test accuracy: 49.28%\n",
            "Learning Rate: 0.0003000Epoch 51\n"
          ]
        },
        {
          "output_type": "display_data",
          "data": {
            "text/plain": [
              "<IPython.core.display.HTML object>"
            ],
            "text/html": [
              "\n",
              "        <table style=\"width: 100%;\">\n",
              "            <tbody>\n",
              "                <tr>\n",
              "                    <td style=\"width: 30%;\">\n",
              "                     <b>Loss: 1.7261</b> &nbsp&nbsp&nbsp 11200 / 50000\n",
              "                    </td>\n",
              "                    <td style=\"width: 70%;\">\n",
              "                        <progress value='11200' max='50000', style='width: 100%'>11200</progress>\n",
              "                    </td>\n",
              "                </tr>\n",
              "            </tbody>\n",
              "        </table>\n",
              "        "
            ]
          },
          "metadata": {}
        },
        {
          "output_type": "error",
          "ename": "KeyboardInterrupt",
          "evalue": "",
          "traceback": [
            "\u001b[0;31m---------------------------------------------------------------------------\u001b[0m",
            "\u001b[0;31mKeyboardInterrupt\u001b[0m                         Traceback (most recent call last)",
            "\u001b[0;32m<ipython-input-65-4bb063fb5ad7>\u001b[0m in \u001b[0;36m<cell line: 1>\u001b[0;34m()\u001b[0m\n\u001b[0;32m----> 1\u001b[0;31m \u001b[0ma\u001b[0m\u001b[0;34m,\u001b[0m \u001b[0mb\u001b[0m \u001b[0;34m,\u001b[0m\u001b[0mc\u001b[0m \u001b[0;34m=\u001b[0m \u001b[0mtrain\u001b[0m\u001b[0;34m(\u001b[0m\u001b[0moptim\u001b[0m\u001b[0;34m,\u001b[0m \u001b[0mmodel\u001b[0m\u001b[0;34m=\u001b[0m\u001b[0mmodel\u001b[0m\u001b[0;34m,\u001b[0m \u001b[0mnum_epochs\u001b[0m \u001b[0;34m=\u001b[0m \u001b[0;36m100\u001b[0m\u001b[0;34m,\u001b[0m\u001b[0mfirst_epoch\u001b[0m\u001b[0;34m=\u001b[0m\u001b[0;36m1\u001b[0m\u001b[0;34m)\u001b[0m\u001b[0;31m#, train_loader=train_loader,valid_loader=test_loader)\u001b[0m\u001b[0;34m\u001b[0m\u001b[0;34m\u001b[0m\u001b[0m\n\u001b[0m",
            "\u001b[0;32m<ipython-input-64-1ee4045e32a9>\u001b[0m in \u001b[0;36mtrain\u001b[0;34m(optimizer, model, num_epochs, first_epoch)\u001b[0m\n\u001b[1;32m     44\u001b[0m             \u001b[0mloss\u001b[0m \u001b[0;34m=\u001b[0m \u001b[0mloss_fn\u001b[0m\u001b[0;34m(\u001b[0m\u001b[0moutputs\u001b[0m\u001b[0;34m,\u001b[0m \u001b[0mtargets\u001b[0m\u001b[0;34m)\u001b[0m\u001b[0;34m\u001b[0m\u001b[0;34m\u001b[0m\u001b[0m\n\u001b[1;32m     45\u001b[0m             \u001b[0mlossdiv\u001b[0m \u001b[0;34m=\u001b[0m \u001b[0mloss\u001b[0m\u001b[0;31m#*5/steps_per_batch\u001b[0m\u001b[0;34m\u001b[0m\u001b[0;34m\u001b[0m\u001b[0m\n\u001b[0;32m---> 46\u001b[0;31m             \u001b[0mlossdiv\u001b[0m\u001b[0;34m.\u001b[0m\u001b[0mbackward\u001b[0m\u001b[0;34m(\u001b[0m\u001b[0;34m)\u001b[0m\u001b[0;34m\u001b[0m\u001b[0;34m\u001b[0m\u001b[0m\n\u001b[0m\u001b[1;32m     47\u001b[0m \u001b[0;34m\u001b[0m\u001b[0m\n\u001b[1;32m     48\u001b[0m             \u001b[0;31m#torch.nn.utils.clip_grad_norm_(model.parameters(), 1)\u001b[0m\u001b[0;34m\u001b[0m\u001b[0;34m\u001b[0m\u001b[0m\n",
            "\u001b[0;32m/usr/local/lib/python3.10/dist-packages/torch/_tensor.py\u001b[0m in \u001b[0;36mbackward\u001b[0;34m(self, gradient, retain_graph, create_graph, inputs)\u001b[0m\n\u001b[1;32m    523\u001b[0m                 \u001b[0minputs\u001b[0m\u001b[0;34m=\u001b[0m\u001b[0minputs\u001b[0m\u001b[0;34m,\u001b[0m\u001b[0;34m\u001b[0m\u001b[0;34m\u001b[0m\u001b[0m\n\u001b[1;32m    524\u001b[0m             )\n\u001b[0;32m--> 525\u001b[0;31m         torch.autograd.backward(\n\u001b[0m\u001b[1;32m    526\u001b[0m             \u001b[0mself\u001b[0m\u001b[0;34m,\u001b[0m \u001b[0mgradient\u001b[0m\u001b[0;34m,\u001b[0m \u001b[0mretain_graph\u001b[0m\u001b[0;34m,\u001b[0m \u001b[0mcreate_graph\u001b[0m\u001b[0;34m,\u001b[0m \u001b[0minputs\u001b[0m\u001b[0;34m=\u001b[0m\u001b[0minputs\u001b[0m\u001b[0;34m\u001b[0m\u001b[0;34m\u001b[0m\u001b[0m\n\u001b[1;32m    527\u001b[0m         )\n",
            "\u001b[0;32m/usr/local/lib/python3.10/dist-packages/torch/autograd/__init__.py\u001b[0m in \u001b[0;36mbackward\u001b[0;34m(tensors, grad_tensors, retain_graph, create_graph, grad_variables, inputs)\u001b[0m\n\u001b[1;32m    265\u001b[0m     \u001b[0;31m# some Python versions print out the first line of a multi-line function\u001b[0m\u001b[0;34m\u001b[0m\u001b[0;34m\u001b[0m\u001b[0m\n\u001b[1;32m    266\u001b[0m     \u001b[0;31m# calls in the traceback and some print out the last line\u001b[0m\u001b[0;34m\u001b[0m\u001b[0;34m\u001b[0m\u001b[0m\n\u001b[0;32m--> 267\u001b[0;31m     _engine_run_backward(\n\u001b[0m\u001b[1;32m    268\u001b[0m         \u001b[0mtensors\u001b[0m\u001b[0;34m,\u001b[0m\u001b[0;34m\u001b[0m\u001b[0;34m\u001b[0m\u001b[0m\n\u001b[1;32m    269\u001b[0m         \u001b[0mgrad_tensors_\u001b[0m\u001b[0;34m,\u001b[0m\u001b[0;34m\u001b[0m\u001b[0;34m\u001b[0m\u001b[0m\n",
            "\u001b[0;32m/usr/local/lib/python3.10/dist-packages/torch/autograd/graph.py\u001b[0m in \u001b[0;36m_engine_run_backward\u001b[0;34m(t_outputs, *args, **kwargs)\u001b[0m\n\u001b[1;32m    742\u001b[0m         \u001b[0munregister_hooks\u001b[0m \u001b[0;34m=\u001b[0m \u001b[0m_register_logging_hooks_on_whole_graph\u001b[0m\u001b[0;34m(\u001b[0m\u001b[0mt_outputs\u001b[0m\u001b[0;34m)\u001b[0m\u001b[0;34m\u001b[0m\u001b[0;34m\u001b[0m\u001b[0m\n\u001b[1;32m    743\u001b[0m     \u001b[0;32mtry\u001b[0m\u001b[0;34m:\u001b[0m\u001b[0;34m\u001b[0m\u001b[0;34m\u001b[0m\u001b[0m\n\u001b[0;32m--> 744\u001b[0;31m         return Variable._execution_engine.run_backward(  # Calls into the C++ engine to run the backward pass\n\u001b[0m\u001b[1;32m    745\u001b[0m             \u001b[0mt_outputs\u001b[0m\u001b[0;34m,\u001b[0m \u001b[0;34m*\u001b[0m\u001b[0margs\u001b[0m\u001b[0;34m,\u001b[0m \u001b[0;34m**\u001b[0m\u001b[0mkwargs\u001b[0m\u001b[0;34m\u001b[0m\u001b[0;34m\u001b[0m\u001b[0m\n\u001b[1;32m    746\u001b[0m         )  # Calls into the C++ engine to run the backward pass\n",
            "\u001b[0;31mKeyboardInterrupt\u001b[0m: "
          ]
        }
      ]
    },
    {
      "cell_type": "code",
      "source": [
        "torch.save(model.state_dict(), \"1.pt\")"
      ],
      "metadata": {
        "id": "3n9cdtjzUKBg"
      },
      "execution_count": null,
      "outputs": []
    },
    {
      "cell_type": "code",
      "source": [
        "model.load_state_dict(torch.load(\"1.pt\"))\n",
        "model.eval()"
      ],
      "metadata": {
        "id": "erf_Nsf0UKfs",
        "colab": {
          "base_uri": "https://localhost:8080/"
        },
        "outputId": "258159af-a7cf-4d5a-9d33-932bac387070"
      },
      "execution_count": null,
      "outputs": [
        {
          "output_type": "execute_result",
          "data": {
            "text/plain": [
              "LinNet(\n",
              "  (root): Sequential(\n",
              "    (conv): StdConv2d(3, 64, kernel_size=(7, 7), stride=(2, 2), padding=(3, 3), bias=False)\n",
              "    (pad): ConstantPad2d(padding=(1, 1, 1, 1), value=0)\n",
              "    (pool): MaxPool2d(kernel_size=3, stride=2, padding=0, dilation=1, ceil_mode=False)\n",
              "  )\n",
              "  (body): Sequential(\n",
              "    (block1): ConvWithLin(\n",
              "      (unit): Sequential(\n",
              "        (unit01): PreActConv(\n",
              "          (gn1): GroupNorm(32, 64, eps=1e-05, affine=True)\n",
              "          (conv1): StdConv2d(64, 64, kernel_size=(1, 1), stride=(1, 1), bias=False)\n",
              "          (gn2): GroupNorm(32, 64, eps=1e-05, affine=True)\n",
              "          (conv2): StdConv2d(64, 64, kernel_size=(3, 3), stride=(1, 1), padding=(1, 1), bias=False)\n",
              "          (gn3): GroupNorm(32, 64, eps=1e-05, affine=True)\n",
              "          (conv3): StdConv2d(64, 128, kernel_size=(1, 1), stride=(1, 1), bias=False)\n",
              "          (relu): ReLU(inplace=True)\n",
              "        )\n",
              "        (unit02): PreActConv(\n",
              "          (gn1): GroupNorm(32, 128, eps=1e-05, affine=True)\n",
              "          (conv1): StdConv2d(128, 64, kernel_size=(1, 1), stride=(1, 1), bias=False)\n",
              "          (gn2): GroupNorm(32, 64, eps=1e-05, affine=True)\n",
              "          (conv2): StdConv2d(64, 64, kernel_size=(3, 3), stride=(1, 1), padding=(1, 1), bias=False)\n",
              "          (gn3): GroupNorm(32, 64, eps=1e-05, affine=True)\n",
              "          (conv3): StdConv2d(64, 128, kernel_size=(1, 1), stride=(1, 1), bias=False)\n",
              "          (relu): ReLU(inplace=True)\n",
              "        )\n",
              "        (unit03): PreActConv(\n",
              "          (gn1): GroupNorm(32, 128, eps=1e-05, affine=True)\n",
              "          (conv1): StdConv2d(128, 64, kernel_size=(1, 1), stride=(1, 1), bias=False)\n",
              "          (gn2): GroupNorm(32, 64, eps=1e-05, affine=True)\n",
              "          (conv2): StdConv2d(64, 64, kernel_size=(3, 3), stride=(1, 1), padding=(1, 1), bias=False)\n",
              "          (gn3): GroupNorm(32, 64, eps=1e-05, affine=True)\n",
              "          (conv3): StdConv2d(64, 128, kernel_size=(1, 1), stride=(1, 1), bias=False)\n",
              "          (relu): ReLU(inplace=True)\n",
              "        )\n",
              "      )\n",
              "      (projout): StdConv2d(128, 512, kernel_size=(1, 1), stride=(1, 1), bias=False)\n",
              "      (linproj): StdConv2d(64, 512, kernel_size=(1, 1), stride=(1, 1), bias=False)\n",
              "    )\n",
              "    (block2): ConvWithLin(\n",
              "      (projin): StdConv2d(512, 256, kernel_size=(1, 1), stride=(1, 1), bias=False)\n",
              "      (unit): Sequential(\n",
              "        (unit01): PreActConv(\n",
              "          (gn1): GroupNorm(32, 256, eps=1e-05, affine=True)\n",
              "          (conv1): StdConv2d(256, 128, kernel_size=(1, 1), stride=(1, 1), bias=False)\n",
              "          (gn2): GroupNorm(32, 128, eps=1e-05, affine=True)\n",
              "          (conv2): StdConv2d(128, 128, kernel_size=(3, 3), stride=(1, 1), padding=(1, 1), bias=False)\n",
              "          (gn3): GroupNorm(32, 128, eps=1e-05, affine=True)\n",
              "          (conv3): StdConv2d(128, 512, kernel_size=(1, 1), stride=(1, 1), bias=False)\n",
              "          (relu): ReLU(inplace=True)\n",
              "        )\n",
              "        (unit02): PreActConv(\n",
              "          (gn1): GroupNorm(32, 512, eps=1e-05, affine=True)\n",
              "          (conv1): StdConv2d(512, 128, kernel_size=(1, 1), stride=(1, 1), bias=False)\n",
              "          (gn2): GroupNorm(32, 128, eps=1e-05, affine=True)\n",
              "          (conv2): StdConv2d(128, 128, kernel_size=(3, 3), stride=(1, 1), padding=(1, 1), bias=False)\n",
              "          (gn3): GroupNorm(32, 128, eps=1e-05, affine=True)\n",
              "          (conv3): StdConv2d(128, 512, kernel_size=(1, 1), stride=(1, 1), bias=False)\n",
              "          (relu): ReLU(inplace=True)\n",
              "        )\n",
              "        (unit03): PreActConv(\n",
              "          (gn1): GroupNorm(32, 512, eps=1e-05, affine=True)\n",
              "          (conv1): StdConv2d(512, 128, kernel_size=(1, 1), stride=(1, 1), bias=False)\n",
              "          (gn2): GroupNorm(32, 128, eps=1e-05, affine=True)\n",
              "          (conv2): StdConv2d(128, 128, kernel_size=(3, 3), stride=(1, 1), padding=(1, 1), bias=False)\n",
              "          (gn3): GroupNorm(32, 128, eps=1e-05, affine=True)\n",
              "          (conv3): StdConv2d(128, 512, kernel_size=(1, 1), stride=(1, 1), bias=False)\n",
              "          (relu): ReLU(inplace=True)\n",
              "        )\n",
              "        (unit04): PreActConv(\n",
              "          (gn1): GroupNorm(32, 512, eps=1e-05, affine=True)\n",
              "          (conv1): StdConv2d(512, 128, kernel_size=(1, 1), stride=(1, 1), bias=False)\n",
              "          (gn2): GroupNorm(32, 128, eps=1e-05, affine=True)\n",
              "          (conv2): StdConv2d(128, 128, kernel_size=(3, 3), stride=(1, 1), padding=(1, 1), bias=False)\n",
              "          (gn3): GroupNorm(32, 128, eps=1e-05, affine=True)\n",
              "          (conv3): StdConv2d(128, 512, kernel_size=(1, 1), stride=(1, 1), bias=False)\n",
              "          (relu): ReLU(inplace=True)\n",
              "        )\n",
              "      )\n",
              "    )\n",
              "    (block3): ConvWithLin(\n",
              "      (unit): Sequential(\n",
              "        (unit01): PreActConv(\n",
              "          (gn1): GroupNorm(32, 512, eps=1e-05, affine=True)\n",
              "          (conv1): StdConv2d(512, 256, kernel_size=(1, 1), stride=(1, 1), bias=False)\n",
              "          (gn2): GroupNorm(32, 256, eps=1e-05, affine=True)\n",
              "          (conv2): StdConv2d(256, 256, kernel_size=(3, 3), stride=(1, 1), padding=(1, 1), bias=False)\n",
              "          (gn3): GroupNorm(32, 256, eps=1e-05, affine=True)\n",
              "          (conv3): StdConv2d(256, 512, kernel_size=(1, 1), stride=(1, 1), bias=False)\n",
              "          (relu): ReLU(inplace=True)\n",
              "        )\n",
              "        (unit02): PreActConv(\n",
              "          (gn1): GroupNorm(32, 512, eps=1e-05, affine=True)\n",
              "          (conv1): StdConv2d(512, 256, kernel_size=(1, 1), stride=(1, 1), bias=False)\n",
              "          (gn2): GroupNorm(32, 256, eps=1e-05, affine=True)\n",
              "          (conv2): StdConv2d(256, 256, kernel_size=(3, 3), stride=(1, 1), padding=(1, 1), bias=False)\n",
              "          (gn3): GroupNorm(32, 256, eps=1e-05, affine=True)\n",
              "          (conv3): StdConv2d(256, 512, kernel_size=(1, 1), stride=(1, 1), bias=False)\n",
              "          (relu): ReLU(inplace=True)\n",
              "        )\n",
              "        (unit03): PreActConv(\n",
              "          (gn1): GroupNorm(32, 512, eps=1e-05, affine=True)\n",
              "          (conv1): StdConv2d(512, 256, kernel_size=(1, 1), stride=(1, 1), bias=False)\n",
              "          (gn2): GroupNorm(32, 256, eps=1e-05, affine=True)\n",
              "          (conv2): StdConv2d(256, 256, kernel_size=(3, 3), stride=(1, 1), padding=(1, 1), bias=False)\n",
              "          (gn3): GroupNorm(32, 256, eps=1e-05, affine=True)\n",
              "          (conv3): StdConv2d(256, 512, kernel_size=(1, 1), stride=(1, 1), bias=False)\n",
              "          (relu): ReLU(inplace=True)\n",
              "        )\n",
              "        (unit04): PreActConv(\n",
              "          (gn1): GroupNorm(32, 512, eps=1e-05, affine=True)\n",
              "          (conv1): StdConv2d(512, 256, kernel_size=(1, 1), stride=(1, 1), bias=False)\n",
              "          (gn2): GroupNorm(32, 256, eps=1e-05, affine=True)\n",
              "          (conv2): StdConv2d(256, 256, kernel_size=(3, 3), stride=(1, 1), padding=(1, 1), bias=False)\n",
              "          (gn3): GroupNorm(32, 256, eps=1e-05, affine=True)\n",
              "          (conv3): StdConv2d(256, 512, kernel_size=(1, 1), stride=(1, 1), bias=False)\n",
              "          (relu): ReLU(inplace=True)\n",
              "        )\n",
              "        (unit05): PreActConv(\n",
              "          (gn1): GroupNorm(32, 512, eps=1e-05, affine=True)\n",
              "          (conv1): StdConv2d(512, 256, kernel_size=(1, 1), stride=(1, 1), bias=False)\n",
              "          (gn2): GroupNorm(32, 256, eps=1e-05, affine=True)\n",
              "          (conv2): StdConv2d(256, 256, kernel_size=(3, 3), stride=(1, 1), padding=(1, 1), bias=False)\n",
              "          (gn3): GroupNorm(32, 256, eps=1e-05, affine=True)\n",
              "          (conv3): StdConv2d(256, 512, kernel_size=(1, 1), stride=(1, 1), bias=False)\n",
              "          (relu): ReLU(inplace=True)\n",
              "        )\n",
              "        (unit06): PreActConv(\n",
              "          (gn1): GroupNorm(32, 512, eps=1e-05, affine=True)\n",
              "          (conv1): StdConv2d(512, 256, kernel_size=(1, 1), stride=(1, 1), bias=False)\n",
              "          (gn2): GroupNorm(32, 256, eps=1e-05, affine=True)\n",
              "          (conv2): StdConv2d(256, 256, kernel_size=(3, 3), stride=(1, 1), padding=(1, 1), bias=False)\n",
              "          (gn3): GroupNorm(32, 256, eps=1e-05, affine=True)\n",
              "          (conv3): StdConv2d(256, 512, kernel_size=(1, 1), stride=(1, 1), bias=False)\n",
              "          (relu): ReLU(inplace=True)\n",
              "        )\n",
              "      )\n",
              "    )\n",
              "  )\n",
              "  (head): Sequential(\n",
              "    (gn): GroupNorm(32, 512, eps=1e-05, affine=True)\n",
              "    (relu): ReLU(inplace=True)\n",
              "    (avg): AdaptiveAvgPool2d(output_size=1)\n",
              "    (conv): Conv2d(512, 100, kernel_size=(1, 1), stride=(1, 1))\n",
              "  )\n",
              ")"
            ]
          },
          "metadata": {},
          "execution_count": 44
        }
      ]
    },
    {
      "cell_type": "code",
      "source": [
        "for bname, block in model.body.named_children():\n",
        "  for uname, unit in block.unit.named_children():\n",
        "    unit.melt()"
      ],
      "metadata": {
        "id": "v5uJcFjvVe4c"
      },
      "execution_count": null,
      "outputs": []
    },
    {
      "cell_type": "code",
      "source": [
        "for bname, block in model.body.named_children():\n",
        "  for uname, unit in block.unit.named_children():\n",
        "    unit.freeze()"
      ],
      "metadata": {
        "id": "3Z-9sBpmW6bU"
      },
      "execution_count": null,
      "outputs": []
    },
    {
      "cell_type": "code",
      "source": [
        "for bname, block in model.body.named_children():\n",
        "  for uname, unit in block.unit.named_children():\n",
        "    #unit.load_from(weights, prefix=f'resnet/{bname}/{uname}/')\n",
        "    t1 = tf2th(weights[f'resnet/{bname}/{uname}/' + 'a/standardized_conv2d/kernel']).to(device)\n",
        "    print(torch.equal(unit.conv1.weight,t1))\n",
        "    print(t1.shape)\n",
        "    print(unit.conv1.weight.shape)"
      ],
      "metadata": {
        "colab": {
          "base_uri": "https://localhost:8080/"
        },
        "id": "d_OqKJkVVl_l",
        "outputId": "2e110452-5545-46c9-d35a-d624a2dd4894"
      },
      "execution_count": null,
      "outputs": [
        {
          "output_type": "stream",
          "name": "stdout",
          "text": [
            "False\n",
            "torch.Size([64, 64, 1, 1])\n",
            "torch.Size([64, 64, 1, 1])\n",
            "False\n",
            "torch.Size([64, 256, 1, 1])\n",
            "torch.Size([64, 128, 1, 1])\n",
            "False\n",
            "torch.Size([64, 256, 1, 1])\n",
            "torch.Size([64, 128, 1, 1])\n",
            "False\n",
            "torch.Size([128, 256, 1, 1])\n",
            "torch.Size([128, 256, 1, 1])\n",
            "False\n",
            "torch.Size([128, 512, 1, 1])\n",
            "torch.Size([128, 512, 1, 1])\n",
            "False\n",
            "torch.Size([128, 512, 1, 1])\n",
            "torch.Size([128, 512, 1, 1])\n",
            "False\n",
            "torch.Size([128, 512, 1, 1])\n",
            "torch.Size([128, 512, 1, 1])\n",
            "False\n",
            "torch.Size([256, 512, 1, 1])\n",
            "torch.Size([256, 512, 1, 1])\n",
            "False\n",
            "torch.Size([256, 1024, 1, 1])\n",
            "torch.Size([256, 512, 1, 1])\n",
            "False\n",
            "torch.Size([256, 1024, 1, 1])\n",
            "torch.Size([256, 512, 1, 1])\n",
            "False\n",
            "torch.Size([256, 1024, 1, 1])\n",
            "torch.Size([256, 512, 1, 1])\n",
            "False\n",
            "torch.Size([256, 1024, 1, 1])\n",
            "torch.Size([256, 512, 1, 1])\n",
            "False\n",
            "torch.Size([256, 1024, 1, 1])\n",
            "torch.Size([256, 512, 1, 1])\n"
          ]
        }
      ]
    },
    {
      "cell_type": "code",
      "source": [
        "t1 = []\n",
        "for bname, block in model.body.named_children():\n",
        "  for uname, unit in block.unit.named_children():\n",
        "    t1 += [torch.clone(unit.conv1.weight)]\n"
      ],
      "metadata": {
        "id": "7jF1iXIlsCjP"
      },
      "execution_count": null,
      "outputs": []
    },
    {
      "cell_type": "code",
      "source": [
        "#t1 = []\n",
        "for bname, block in model.body.named_children():\n",
        "  for uname, unit in block.unit.named_children():\n",
        "    #unit.load_from(weights, prefix=f'resnet/{bname}/{uname}/')\n",
        "\n",
        "    print(torch.equal(unit.conv1.weight,t1[0]))\n",
        "    t1 += [torch.clone(unit.conv1.weight)]\n",
        "    t1.pop(0)"
      ],
      "metadata": {
        "colab": {
          "base_uri": "https://localhost:8080/"
        },
        "id": "4mKqmkA9kaO1",
        "outputId": "e4ef4e03-a1f0-44e7-80c1-8e1a7ae48a1e"
      },
      "execution_count": null,
      "outputs": [
        {
          "output_type": "stream",
          "name": "stdout",
          "text": [
            "True\n",
            "True\n",
            "True\n",
            "True\n",
            "True\n",
            "True\n",
            "True\n",
            "True\n",
            "True\n",
            "True\n",
            "True\n",
            "True\n",
            "True\n"
          ]
        }
      ]
    },
    {
      "cell_type": "code",
      "source": [
        "sum(p.numel() for p in model.parameters() if p.requires_grad)"
      ],
      "metadata": {
        "id": "bCvX-zEze7oN"
      },
      "execution_count": null,
      "outputs": []
    },
    {
      "cell_type": "code",
      "source": [
        "model = LinNet(LinNet.BLOCK_UNITS['r50'], width_factor=1, head_size=100,zero_head = True)  # NOTE: No new head.\n",
        "#model.load_from(weights)\n",
        "model.to(device);"
      ],
      "metadata": {
        "id": "_iIVTSmYpDiZ"
      },
      "execution_count": null,
      "outputs": []
    },
    {
      "cell_type": "markdown",
      "source": [],
      "metadata": {
        "id": "kk5RF9Kme9Mr"
      }
    }
  ]
}
